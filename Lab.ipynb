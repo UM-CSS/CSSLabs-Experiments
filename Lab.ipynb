{
 "cells": [
  {
   "cell_type": "markdown",
   "metadata": {},
   "source": [
    "## Contents\n",
    "1. [Import data](#Import-data)\n",
    "1. [Experiment](#Experiment)\n",
    "    1. [Descriptive statistics](#Descriptive-statistics)\n",
    "    1. [Gini coefficient](#Gini-coefficient)\n",
    "    1. [Market share](#Market-share)\n",
    "    1. [Unpredictability](#Unpredictability)\n",
    "2. [References](#References)"
   ]
  },
  {
   "cell_type": "markdown",
   "metadata": {},
   "source": [
    "## Import data\n",
    "We start by importing python libraries and configuring jupyter."
   ]
  },
  {
   "cell_type": "code",
   "execution_count": null,
   "metadata": {
    "scrolled": true
   },
   "outputs": [],
   "source": [
    "# Initialization\n",
    "%pylab inline\n",
    "import random\n",
    "import matplotlib.pyplot as plt\n",
    "import numpy as np\n",
    "import pandas as pd\n",
    "import scipy as sp\n",
    "import scipy.misc as spmisc"
   ]
  },
  {
   "cell_type": "markdown",
   "metadata": {},
   "source": [
    "Now we'll define helper functions to read data from either the original experiment or from oTree."
   ]
  },
  {
   "cell_type": "code",
   "execution_count": null,
   "metadata": {},
   "outputs": [],
   "source": [
    "# These helper functions create a data frame with the following columns:\n",
    "#  - world_id\n",
    "#  - song_id\n",
    "#  - download_count\n",
    "#  - rating_count\n",
    "#  - mean_rating\n",
    "\n",
    "class SDWData(object):\n",
    "    def __init__(self, path=\"external/CW\", independent_world=9):\n",
    "        self.path = path\n",
    "        self.independent_world = 9\n",
    "        \n",
    "    def get_world_song(self):\n",
    "        # Load data from all worlds in SDW experiment 1\n",
    "        downloads_file = \"{path}/musiclab_data/dynamics_downloads_download_w{world}_v{experiment}.txt\"\n",
    "        song_ids = range(1,49)\n",
    "        world_ids = range(1,10)\n",
    "        columns = ['user_id', 'world_id'] \\\n",
    "            + [\"dl_{i}\".format(i=i) for i in song_ids] \\\n",
    "            + ['timestamp']\n",
    "        df_raw = pd.concat([\n",
    "            pd.read_csv(\n",
    "                downloads_file.format(path=self.path, world=w, experiment=1),\n",
    "                comment=\"%\",\n",
    "                header=None,\n",
    "                names=columns\n",
    "            )\n",
    "            for w in world_ids])\n",
    "        return self.sdw_to_world_song(df_raw)\n",
    "\n",
    "    # Convert SDW2006 data to a data frame with a single count column\n",
    "    def sdw_to_world_song(self, df_raw):\n",
    "        col_world_id = []\n",
    "        col_song_id = []\n",
    "        col_count = []\n",
    "        song_ids = range(1,49)\n",
    "        world_ids = range(1,10)\n",
    "        # Get list of world ids present in df_raw\n",
    "        world_ids = sorted(set(df_raw[\"world_id\"]))\n",
    "        for cur_world in world_ids:\n",
    "            # Filter by world\n",
    "            df_world = df_raw[df_raw[\"world_id\"] == cur_world]\n",
    "            for cur_song in song_ids:\n",
    "                col_world_id.append(cur_world)\n",
    "                col_song_id.append(cur_song)\n",
    "                count = df_world[\"dl_{}\".format(cur_song)].sum()\n",
    "                col_count.append(count)\n",
    "        df_downloads = pd.DataFrame({\n",
    "            \"world_id\": col_world_id,\n",
    "            \"song_id\": col_song_id,\n",
    "            \"download_count\": col_count,\n",
    "            \"rating_count\": 0.0,\n",
    "            \"mean_rating\": 0.0\n",
    "        })\n",
    "        return df_downloads\n",
    "\n",
    "class OTreeData(object):\n",
    "    def __init__(self, data=\"data/cultural_market.csv\", session=None, independent_world=0):\n",
    "        self.data = data\n",
    "        self.session = session\n",
    "        self.independent = independent\n",
    "        \n",
    "    # Load oTree data into a data frame\n",
    "    def get_world_song(self):\n",
    "        # Read csv in oTree format\n",
    "        df_raw = pd.read_csv(self.data)\n",
    "        # Remove all but desired session\n",
    "        df_raw = df_raw[df_raw['session.code'] == self.session]\n",
    "        # Generate list of songs and worlds\n",
    "        row_count = int(list(df_raw[\"player.rows\"])[0])\n",
    "        col_count = int(list(df_raw[\"player.cols\"])[0])\n",
    "        num_songs = row_count * col_count\n",
    "        song_ids = range(num_songs)\n",
    "        world_ids = sorted(set(df_raw[\"player.world\"]))\n",
    "        # Count totals for each world/song combination\n",
    "        col_world_id = []\n",
    "        col_song_id = []\n",
    "        col_download_count = []\n",
    "        col_mean_rating = []\n",
    "        col_rating_count = []\n",
    "        for cur_world in world_ids:\n",
    "            df_world = df_raw[df_raw[\"player.world\"] == cur_world]\n",
    "            for cur_song in song_ids:\n",
    "                # Record song and world id\n",
    "                col_world_id.append(cur_world)\n",
    "                col_song_id.append(cur_song)\n",
    "                # Count the number of downloads\n",
    "                col_download_count.append(df_world[\"player.download_{}\".format(cur_song)].sum())\n",
    "                # Find the number of ratings and average rating\n",
    "                rating_label = \"player.rating_{}\".format(cur_song)\n",
    "                df_ratings = df_world[df_world[rating_label] > 0]\n",
    "                col_rating_count.append(len(df_ratings))\n",
    "                col_mean_rating.append(df_ratings[rating_label].mean())\n",
    "        df_downloads = pd.DataFrame({\n",
    "            \"world_id\": col_world_id,\n",
    "            \"song_id\": col_song_id,\n",
    "            \"download_count\": col_download_count,\n",
    "            \"rating_count\": col_rating_count,\n",
    "            \"mean_rating\": col_mean_rating\n",
    "        })\n",
    "        return df_downloads"
   ]
  },
  {
   "cell_type": "markdown",
   "metadata": {},
   "source": [
    "### Read the data into a data frame\n",
    "The next line will read in the data from the original Salganik, Dodds, and Watts experiment. If you instead want to analyze data from oTree, remove the `#` from the beginning of the second line and enter the path to the csv file downloaded from oTree and the oTree session id of your experiment. If you change the data file, also make sure to change the id for the independent world."
   ]
  },
  {
   "cell_type": "code",
   "execution_count": null,
   "metadata": {},
   "outputs": [],
   "source": [
    "data = SDWData(path=\"external/CM\", independent_world=9)\n",
    "#data = OTreeData(data=\"data/cultural_market.csv\", session=\"iddr7oao\", independent_world=0)\n",
    "df_downloads = data.get_world_song()\n",
    "df_downloads.head()"
   ]
  },
  {
   "cell_type": "markdown",
   "metadata": {},
   "source": [
    "## Experiment\n",
    "First we must choose which quantity to analyze. The options are `download_count` (as in the original experiment) or `mean_rating`."
   ]
  },
  {
   "cell_type": "code",
   "execution_count": null,
   "metadata": {},
   "outputs": [],
   "source": [
    "analysis_column = \"download_count\""
   ]
  },
  {
   "cell_type": "markdown",
   "metadata": {},
   "source": [
    "### Descriptive statistics\n",
    "First we define functions to count the total number of downloads for each song and in each world."
   ]
  },
  {
   "cell_type": "code",
   "execution_count": null,
   "metadata": {},
   "outputs": [],
   "source": [
    "# Count downloads for each song\n",
    "def count_song_stats(df_downloads):\n",
    "    # Create list of song_id values present in input\n",
    "    song_ids = sorted(set(df_downloads[\"song_id\"]))\n",
    "    # Create DataFrame for songs\n",
    "    df_songs = pd.DataFrame({\"song_id\":song_ids}) \\\n",
    "        .set_index(\"song_id\")\n",
    "    df_songs[\"download_count\"] = [\n",
    "        df_downloads[df_downloads[\"song_id\"] == cur_song][\"download_count\"].sum()\n",
    "        for cur_song in df_songs.index]\n",
    "    # Calculate mean over all worlds\n",
    "    df_songs[\"mean_rating\"] = np.zeros(len(df_songs.index))\n",
    "    df_songs[\"rating_count\"] = np.zeros(len(df_songs.index))\n",
    "    for cur_song in df_songs.index:\n",
    "        df = df_downloads[df_downloads[\"song_id\"] == cur_song]\n",
    "        df = df[~np.isnan(df[\"mean_rating\"])]\n",
    "        total_rating = np.dot(df[\"mean_rating\"], df[\"rating_count\"])\n",
    "        total_count = df[\"rating_count\"].sum()\n",
    "        df_songs[\"rating_count\"] = total_count\n",
    "        df_songs[\"mean_rating\"][cur_song] = total_rating / total_count\n",
    "    return df_songs\n",
    "\n",
    "# Count downloads for each world\n",
    "def count_world_stats(df_downloads):\n",
    "    # Create list of world_id values present in input\n",
    "    world_ids = sorted(set(df_downloads[\"world_id\"]))\n",
    "    # Create DataFrame for worlds\n",
    "    df_worlds = pd.DataFrame({\"world_id\":world_ids}) \\\n",
    "        .set_index(\"world_id\")\n",
    "    # Count downloads for each world\n",
    "    df_worlds[\"download_count\"] = [\n",
    "        df_downloads[df_downloads[\"world_id\"] == cur_world][\"download_count\"].sum()\n",
    "        for cur_world in df_worlds.index\n",
    "    ]\n",
    "    # Calculate mean over all songs\n",
    "    df_worlds[\"rating_count\"] = np.zeros(len(df_worlds.index))\n",
    "    df_worlds[\"mean_rating\"] = np.zeros(len(df_worlds.index))\n",
    "    for cur_world in df_worlds.index:\n",
    "        df = df_downloads[df_downloads[\"world_id\"] == cur_world]\n",
    "        df = df[~np.isnan(df[\"mean_rating\"])]\n",
    "        total_rating = np.dot(df[\"mean_rating\"], df[\"rating_count\"])\n",
    "        total_count = df[\"rating_count\"].sum()\n",
    "        df_worlds[\"rating_count\"] = total_count\n",
    "        df_worlds[\"mean_rating\"][cur_world] = total_rating / total_count\n",
    "    return df_worlds"
   ]
  },
  {
   "cell_type": "code",
   "execution_count": null,
   "metadata": {},
   "outputs": [],
   "source": [
    "# Plot histogram of download counts\n",
    "df_songs = count_song_stats(df_downloads)\n",
    "df_worlds = count_world_stats(df_downloads)\n",
    "plt.hist([ x for x in df_songs[analysis_column] if not np.isnan(x)], bins=10)\n",
    "plt.xlabel(analysis_column)\n",
    "plt.ylabel(\"Frequency\")"
   ]
  },
  {
   "cell_type": "markdown",
   "metadata": {},
   "source": [
    "### Gini coefficient"
   ]
  },
  {
   "cell_type": "code",
   "execution_count": null,
   "metadata": {},
   "outputs": [],
   "source": [
    "def gini(x):\n",
    "    '''Given a list of counts `x`, return the gini coefficient.'''\n",
    "    x = [xi for xi in x if not np.isnan(xi)]\n",
    "    n = len(x)\n",
    "    gini_num = sum([sum([abs(x_i - x_j) for x_j in x]) for x_i in x])\n",
    "    gini_den = 2.0 * n * sum([x_i for x_i in x])\n",
    "    return gini_num / gini_den"
   ]
  },
  {
   "cell_type": "code",
   "execution_count": null,
   "metadata": {},
   "outputs": [],
   "source": [
    "# Calculate and plot the gini coefficient for each world\n",
    "df_worlds[\"gini\"] = [\n",
    "    gini(df_downloads[df_downloads[\"world_id\"] == cur_world][analysis_column])\n",
    "    for cur_world in df_worlds.index]\n",
    "plt.bar(df_worlds.index, df_worlds[\"gini\"])\n",
    "plt.xlabel(\"World\")\n",
    "plt.ylabel(\"Gini coefficient\")"
   ]
  },
  {
   "cell_type": "markdown",
   "metadata": {
    "collapsed": true
   },
   "source": [
    "### Market share"
   ]
  },
  {
   "cell_type": "code",
   "execution_count": null,
   "metadata": {},
   "outputs": [],
   "source": [
    "# Calculate market shares\n",
    "def find_market_share(df_downloads):\n",
    "    '''Return a DataFrame containing song_id, world_id, and market_share columns.'''\n",
    "    # Create a copy of the input to return\n",
    "    df = df_downloads.copy()\n",
    "    # Count the total downloads for each world\n",
    "    df_worlds = count_world_stats(df)\n",
    "    # Calculate the market share\n",
    "    if analysis_column == 'mean_rating':\n",
    "        df[\"market_share\"] = [\n",
    "            float(df.loc[i][\"mean_rating\"] * df.loc[i][\"rating_count\"]) \\\n",
    "                / float(df_worlds.loc[df.iloc[i][\"world_id\"]][\"rating_count\"])\n",
    "                / float(df_worlds.loc[df.iloc[i][\"world_id\"]][\"mean_rating\"])\n",
    "            for i in df.index]\n",
    "    elif analysis_column == 'download_count':\n",
    "        df[\"market_share\"] = [\n",
    "            float(df.loc[i][\"download_count\"]) \\\n",
    "                / float(df_worlds.loc[df.iloc[i][\"world_id\"]][\"download_count\"])\n",
    "            for i in df.index]\n",
    "    return df"
   ]
  },
  {
   "cell_type": "code",
   "execution_count": null,
   "metadata": {},
   "outputs": [],
   "source": [
    "# Calculate market share for each song/world\n",
    "df_downloads[\"market_share\"] = find_market_share(df_downloads)[\"market_share\"]\n",
    "\n",
    "# Copy market share, and convert to rank one world at a time\n",
    "ranks = []\n",
    "for cur_world in sorted(set(df_downloads[\"world_id\"])):\n",
    "    df = df_downloads[df_downloads[\"world_id\"] == cur_world].copy()\n",
    "    df[\"market_rank\"] = df[\"market_share\"].rank(ascending=False)\n",
    "    # Store results for this world in an array\n",
    "    ranks.append(df)\n",
    "# Concatenate results for all worlds\n",
    "df_downloads['market_rank'] = pd.concat(ranks)['market_rank']\n",
    "\n",
    "# Remove nan entries\n",
    "nan_songs = list(df_downloads[np.isnan(df_downloads[\"market_share\"])][\"song_id\"])\n",
    "df = df_downloads\n",
    "for cur_song in nan_songs:\n",
    "    df = df[df[\"song_id\"] != cur_song]"
   ]
  },
  {
   "cell_type": "code",
   "execution_count": null,
   "metadata": {},
   "outputs": [],
   "source": [
    "# Create a figure\n",
    "plt.figure(figsize(8,4))\n",
    "\n",
    "# Plot social influence market share vs independent market share\n",
    "# Create subplots and use first\n",
    "plt.subplot(1,2,1)\n",
    "world_ids = sorted(set(df_downloads[\"world_id\"]))\n",
    "dependent_worlds = [x for x in world_ids if x != data.independent_world]\n",
    "for cur_world in dependent_worlds:\n",
    "    plt.plot(\n",
    "        df[df[\"world_id\"] == data.independent_world]['market_share'],\n",
    "        df[df[\"world_id\"] == cur_world]['market_share'], '.b')\n",
    "plt.xlabel(\"Market share (Indep.)\")\n",
    "plt.ylabel(\"Market share (Social)\")\n",
    "\n",
    "# Plot social rank vs indpendent rank in second subplot\n",
    "plt.subplot(1,2,2)\n",
    "for cur_world in dependent_worlds:\n",
    "    plt.plot(\n",
    "        df[df[\"world_id\"] == data.independent_world]['market_rank'],\n",
    "        df[df[\"world_id\"] == cur_world]['market_rank'], '.b')\n",
    "plt.xlabel(\"Market rank (Indep.)\")\n",
    "plt.ylabel(\"Market rank (Social)\")\n",
    "plt.tight_layout()\n"
   ]
  },
  {
   "cell_type": "markdown",
   "metadata": {},
   "source": [
    "## Unpredictability"
   ]
  },
  {
   "cell_type": "code",
   "execution_count": null,
   "metadata": {},
   "outputs": [],
   "source": [
    "def find_unpredictability(df_downloads):\n",
    "    '''Return a DataFrame indexed by song_id with an `unpredictability` column.'''\n",
    "    # Create the DataFrame and index from the provided download data\n",
    "    df = pd.DataFrame({\"song_id\": list(set(df_downloads[\"song_id\"]))}) \\\n",
    "        .set_index(\"song_id\")\n",
    "    # Get market share of each song in each world\n",
    "    df_market = find_market_share(df_downloads)\n",
    "    # Calculate and return the unpredictability based on equation in SDW2006\n",
    "    df[\"unpredictability\"] = [\n",
    "        sum([\n",
    "            sum([\n",
    "                abs(\n",
    "                    df_market[\n",
    "                        (df_market[\"song_id\"] == cur_song)\n",
    "                        & (df_market[\"world_id\"] == world_j)\n",
    "                    ][\"market_share\"].sum()\n",
    "                    - df_market[\n",
    "                        (df_market[\"song_id\"] == cur_song)\n",
    "                        & (df_market[\"world_id\"] == world_k)\n",
    "                    ][\"market_share\"].sum()\n",
    "                ) / spmisc.comb(len(df_worlds), 2)\n",
    "                for k, world_k in enumerate(df_worlds.index[j+1:])])\n",
    "            for j, world_j in enumerate(df_worlds.index)])\n",
    "        for cur_song in df.index]\n",
    "    return df"
   ]
  },
  {
   "cell_type": "code",
   "execution_count": null,
   "metadata": {},
   "outputs": [],
   "source": [
    "# Calculate unpredictability in social influence worlds\n",
    "df_social = df_downloads[df_downloads[\"world_id\"] != 9]\n",
    "df_songs[\"unpredictability\"] = find_unpredictability(df_social)[\"unpredictability\"]\n",
    "\n",
    "# Calculate unpredictability in independent world\n",
    "# First, copy data for only independent world\n",
    "df_indep = df_raw[df_raw[\"world_id\"] == independent_world].copy()\n",
    "# Repeatedly split users into two random worlds and calculate uncertainties\n",
    "unpredictability = []\n",
    "num_iter = 50\n",
    "for i in range(num_iter):\n",
    "    df_indep[\"world_id\"] = np.random.randint(0, 2, size=len(df_indep))\n",
    "    df_indep_dl = raw_to_world_song(df_indep)\n",
    "    u_i = find_unpredictability(df_indep_dl)[\"unpredictability\"]\n",
    "    unpredictability.append(u_i) \n",
    "# Average results\n",
    "# Elements are pandas Series objects, which can be added to each other\n",
    "u = np.sum(unpredictability, axis=0) / float(num_iter)\n",
    "# Add to the song DataFrame\n",
    "df_songs[\"unpredictability_indep\"] = u"
   ]
  },
  {
   "cell_type": "code",
   "execution_count": null,
   "metadata": {},
   "outputs": [],
   "source": [
    "# Plot the unpredictability for social and independent worlds\n",
    "u_social = df_songs[\"unpredictability\"].sum() / float(len(df_songs))\n",
    "u_indep = df_songs[\"unpredictability_indep\"].sum() / float(len(df_songs))\n",
    "plt.figure(figsize=(6,4))\n",
    "plt.bar([1, 2], [u_social, u_indep])\n",
    "plt.xlabel(\"World\")\n",
    "plt.ylabel(\"Unpredictability\")\n"
   ]
  },
  {
   "cell_type": "markdown",
   "metadata": {},
   "source": [
    "## References\n",
    "\n",
    "1. Salganik, M. J., Dodds, P. S., & Watts, D. J. (2006). Experimental study of inequality and unpredictability in an artificial cultural market. _Science_, 311(5762), 854-856."
   ]
  },
  {
   "cell_type": "code",
   "execution_count": null,
   "metadata": {},
   "outputs": [],
   "source": [
    "df_raw.sort_values(\"timestamp\").head(10)"
   ]
  },
  {
   "cell_type": "code",
   "execution_count": null,
   "metadata": {},
   "outputs": [],
   "source": [
    "world_ids[-9:-1]"
   ]
  },
  {
   "cell_type": "code",
   "execution_count": null,
   "metadata": {},
   "outputs": [],
   "source": []
  }
 ],
 "metadata": {
  "kernelspec": {
   "display_name": "Python 3",
   "language": "python",
   "name": "python3"
  },
  "language_info": {
   "codemirror_mode": {
    "name": "ipython",
    "version": 3
   },
   "file_extension": ".py",
   "mimetype": "text/x-python",
   "name": "python",
   "nbconvert_exporter": "python",
   "pygments_lexer": "ipython3",
   "version": "3.6.2"
  }
 },
 "nbformat": 4,
 "nbformat_minor": 2
}
