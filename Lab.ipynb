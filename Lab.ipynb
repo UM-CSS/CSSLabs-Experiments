{
 "cells": [
  {
   "cell_type": "markdown",
   "metadata": {},
   "source": [
    "# CSS Lab: Online Experiments\n",
    "This notebook is a working example of how to analyze online experiments.\n",
    "The lab uses a social influence experiment modeled after [SDW2006].\n",
    "You can analyze the data from the orginal experiment,\n",
    "or data from your ownexperiment conducted using the provided oTree module [CSW2016].\n",
    "The original experiment measured the popularity of songs, but the analysis can be done for any kind of cultural artifact.\n",
    "\n",
    "## Contents\n",
    "1. [Setup](#Setup)\n",
    "    1. [Load python libraries](#Load-python-libraries)\n",
    "    1. [Import data](#Import-data)\n",
    "1. [Experiment](#Experiment)\n",
    "    1. [Descriptive statistics](#Descriptive-statistics)\n",
    "    1. [Gini coefficient](#Gini-coefficient)\n",
    "    1. [Market share](#Market-share)\n",
    "    1. [Unpredictability](#Unpredictability)\n",
    "2. [References](#References)"
   ]
  },
  {
   "cell_type": "markdown",
   "metadata": {},
   "source": [
    "## Setup\n",
    "### Import Python Libraries\n",
    "We will use several python libraries that make it easier to analyze and plot data."
   ]
  },
  {
   "cell_type": "code",
   "execution_count": null,
   "metadata": {
    "scrolled": true
   },
   "outputs": [],
   "source": [
    "# Initialization\n",
    "%pylab inline\n",
    "import matplotlib.pyplot as plt\n",
    "import numpy as np\n",
    "import pandas as pd\n",
    "import scipy as sp\n",
    "import scipy.special as spspec"
   ]
  },
  {
   "cell_type": "markdown",
   "metadata": {},
   "source": [
    "### Load Data\n",
    "Now we'll define helper functions to read data from either the original experiment or from oTree's output."
   ]
  },
  {
   "cell_type": "code",
   "execution_count": null,
   "metadata": {},
   "outputs": [],
   "source": [
    "# Class to manipulate data from original SDW2006 eperiment\n",
    "class SDWData(object):\n",
    "    def __init__(self, path=\"external/CW\", independent_world=9, num_worlds=9, num_songs=48):\n",
    "        self.path = path\n",
    "        self.independent_world = independent_world\n",
    "        self.num_worlds = num_worlds\n",
    "        self.num_songs = num_songs\n",
    "        \n",
    "    # Get a DataFrame with world_id and song_id columns\n",
    "    def get_world_song(self, world=None):\n",
    "        df_sdw = self.get_sdw(world)\n",
    "        return self.sdw_to_world_song(df_sdw)\n",
    "    \n",
    "    # Load the relevant data from the original experiment\n",
    "    def get_sdw(self, world=None):\n",
    "        # Load data from SDW experiment 1\n",
    "        # Load all worlds if world is None\n",
    "        downloads_file = \"{path}/musiclab_data/dynamics_downloads_download_w{world}_v{experiment}.txt\"\n",
    "        song_ids = range(1,self.num_songs+1)\n",
    "        if world is None:\n",
    "            world_ids = range(1, self.num_worlds+1)\n",
    "        else:\n",
    "            world_ids = [world]\n",
    "        columns = ['user_id', 'world_id'] \\\n",
    "            + [\"dl_{i}\".format(i=i) for i in song_ids] \\\n",
    "            + ['timestamp']\n",
    "        df_raw = pd.concat([\n",
    "            pd.read_csv(\n",
    "                downloads_file.format(path=self.path, world=w, experiment=1),\n",
    "                comment=\"%\",\n",
    "                header=None,\n",
    "                names=columns\n",
    "            )\n",
    "            for w in world_ids])\n",
    "        return df_raw\n",
    "\n",
    "    # Convert SDW2006 data to a more usable format\n",
    "    def sdw_to_world_song(self, df_raw):\n",
    "        col_world_id = []\n",
    "        col_song_id = []\n",
    "        col_count = []\n",
    "        song_ids = range(1,self.num_songs + 1)\n",
    "        world_ids = range(1,self.num_worlds + 1)\n",
    "        # Get list of world ids present in df_raw\n",
    "        world_ids = sorted(set(df_raw[\"world_id\"]))\n",
    "        for cur_world in world_ids:\n",
    "            # Filter by world\n",
    "            df_world = df_raw[df_raw[\"world_id\"] == cur_world]\n",
    "            for cur_song in song_ids:\n",
    "                col_world_id.append(cur_world)\n",
    "                col_song_id.append(cur_song)\n",
    "                count = df_world[\"dl_{}\".format(cur_song)].sum()\n",
    "                col_count.append(count)\n",
    "        df_downloads = pd.DataFrame({\n",
    "            \"world_id\": col_world_id,\n",
    "            \"song_id\": col_song_id,\n",
    "            \"download_count\": col_count,\n",
    "            \"rating_count\": 0.0,\n",
    "            \"mean_rating\": 0.0\n",
    "        })\n",
    "        return df_downloads\n",
    "    \n",
    "    # Generate a DataFrame with \n",
    "    def sample_independent(self, num_worlds=2):\n",
    "        df_sdw = self.get_sdw(self.independent_world)\n",
    "        df_sdw[\"world_id\"] = np.random.randint(0, num_worlds, len(df_sdw.index))\n",
    "        return self.sdw_to_world_song(df_sdw)\n",
    "\n",
    "class OTreeData(object):\n",
    "    def __init__(self, data=\"data/cultural_market.csv\", session=None, independent_world=0, num_worlds=4, num_songs=48):\n",
    "        self.data = data\n",
    "        self.session = session\n",
    "        self.independent_world = independent_world\n",
    "        self.num_worlds = num_worlds\n",
    "        self.num_songs = num_songs\n",
    "        \n",
    "    # Load oTree data into a data frame\n",
    "    def get_world_song(self, world=None):\n",
    "        df_otree = self.get_otree(world)\n",
    "        df_world_song = self.otree_to_world_song(df_otree)\n",
    "        return df_world_song\n",
    "    \n",
    "    def get_otree(self, world=None):\n",
    "        # Read csv in oTree format\n",
    "        # We set low_memory=False so pandas can infer column types\n",
    "        df_otree = pd.read_csv(self.data, low_memory=False)\n",
    "        # Remove all but desired session\n",
    "        df_otree = df_otree[df_otree['session.code'] == self.session]\n",
    "        if world is not None:\n",
    "            df_otree = df_otree[df_otree['world_id'] == world]\n",
    "        return df_otree\n",
    "        \n",
    "    def otree_to_world_song(self, df_raw):\n",
    "        # Generate list of songs and worlds\n",
    "        song_ids = range(self.num_songs)\n",
    "        # Use all worlds if none is specified\n",
    "        world_ids = sorted(set(df_raw[\"player.world\"]))\n",
    "        # Count totals for each world/song combination\n",
    "        col_world_id = []\n",
    "        col_song_id = []\n",
    "        col_download_count = []\n",
    "        col_mean_rating = []\n",
    "        col_rating_count = []\n",
    "        for cur_world in world_ids:\n",
    "            df_world = df_raw[df_raw[\"player.world\"] == cur_world]\n",
    "            for cur_song in song_ids:\n",
    "                # Record song and world id\n",
    "                col_world_id.append(cur_world)\n",
    "                col_song_id.append(cur_song)\n",
    "                # Count the number of downloads\n",
    "                col_download_count.append(df_world[\"player.download_{}\".format(cur_song)].sum())\n",
    "                # Find the number of ratings and average rating\n",
    "                rating_label = \"player.rating_{}\".format(cur_song)\n",
    "                df_ratings = df_world[df_world[rating_label] > 0]\n",
    "                col_rating_count.append(len(df_ratings))\n",
    "                col_mean_rating.append(df_ratings[rating_label].mean())\n",
    "        df_world_song = pd.DataFrame({\n",
    "            \"world_id\": col_world_id,\n",
    "            \"song_id\": col_song_id,\n",
    "            \"download_count\": col_download_count,\n",
    "            \"rating_count\": col_rating_count,\n",
    "            \"mean_rating\": col_mean_rating\n",
    "        })\n",
    "        return df_world_song\n",
    "    \n",
    "    def sample_independent(self, num_worlds=2):\n",
    "        df_otree = pd.read_csv(self.data, low_memory=False)\n",
    "        df_otree = df_otree[df_otree['session.code'] == self.session]\n",
    "        df_otree[\"world_id\"] = np.random.randint(0, num_worlds, len(df_otree.index))\n",
    "        return self.otree_to_world_song(df_otree)\n"
   ]
  },
  {
   "cell_type": "markdown",
   "metadata": {},
   "source": [
    "The next cell will read in the data from the original Salganik, Dodds, and Watts experiment [SDW2006] and display the first few rows.\n",
    "\n",
    "If you instead want to analyze data from oTree, remove the `#` from the beginning of the second line and enter the path to the csv file downloaded from oTree and the oTree session id of your experiment."
   ]
  },
  {
   "cell_type": "code",
   "execution_count": null,
   "metadata": {},
   "outputs": [],
   "source": [
    "data = SDWData(path=\"external/CM\", independent_world=9, num_worlds=9, num_songs=48)\n",
    "#data = OTreeData(data=\"data/cultural_market.csv\", session=\"3i8pw3kt\", independent_world=0)\n",
    "df_world_song = data.get_world_song()\n",
    "df_downloads = df_world_song\n",
    "df_world_song.head()"
   ]
  },
  {
   "cell_type": "markdown",
   "metadata": {},
   "source": [
    "We also need to choose which quantity to analyze. The options are `download_count` (as in the original experiment) or `mean_rating` (suggested for the oTree experiment)."
   ]
  },
  {
   "cell_type": "code",
   "execution_count": null,
   "metadata": {},
   "outputs": [],
   "source": [
    "analysis_column = \"download_count\""
   ]
  },
  {
   "cell_type": "markdown",
   "metadata": {},
   "source": [
    "## Experiment"
   ]
  },
  {
   "cell_type": "markdown",
   "metadata": {},
   "source": [
    "### Descriptive statistics\n",
    "First we define some helper functions to calculate statistics about the experiment."
   ]
  },
  {
   "cell_type": "code",
   "execution_count": null,
   "metadata": {},
   "outputs": [],
   "source": [
    "# Count downloads for each song\n",
    "def count_song_stats(df_downloads):\n",
    "    # Create list of song_id values present in input\n",
    "    song_ids = sorted(set(df_downloads[\"song_id\"]))\n",
    "    # Create DataFrame for songs\n",
    "    df_songs = pd.DataFrame({\"song_id\":song_ids}) \\\n",
    "        .set_index(\"song_id\")\n",
    "    df_songs[\"download_count\"] = [\n",
    "        df_downloads[df_downloads[\"song_id\"] == cur_song][\"download_count\"].sum()\n",
    "        for cur_song in df_songs.index]\n",
    "    # Calculate mean over all worlds\n",
    "    df_songs[\"mean_rating\"] = np.zeros(len(df_songs.index))\n",
    "    df_songs[\"rating_count\"] = np.zeros(len(df_songs.index))\n",
    "    for cur_song in df_songs.index:\n",
    "        df = df_downloads[df_downloads[\"song_id\"] == cur_song]\n",
    "        df = df[~np.isnan(df[\"mean_rating\"])]\n",
    "        total_rating = float(np.dot(df[\"mean_rating\"], df[\"rating_count\"]))\n",
    "        total_count = float(df[\"rating_count\"].sum())\n",
    "        try:\n",
    "            df_songs[\"rating_count\"] = total_count\n",
    "            mean_rating = total_rating / total_count\n",
    "            df_songs.loc[cur_song, \"mean_rating\"] = mean_rating\n",
    "        except ZeroDivisionError:\n",
    "            df_songs.loc[cur_song, \"mean_rating\"] = np.NaN\n",
    "    return df_songs\n",
    "\n",
    "# Count downloads for each world\n",
    "def count_world_stats(df_downloads):\n",
    "    # Create list of world_id values present in input\n",
    "    world_ids = sorted(set(df_downloads[\"world_id\"]))\n",
    "    # Create DataFrame for worlds\n",
    "    df_worlds = pd.DataFrame({\"world_id\":world_ids}) \\\n",
    "        .set_index(\"world_id\")\n",
    "    # Count downloads for each world\n",
    "    df_worlds[\"download_count\"] = [\n",
    "        df_downloads[df_downloads[\"world_id\"] == cur_world][\"download_count\"].sum()\n",
    "        for cur_world in df_worlds.index\n",
    "    ]\n",
    "    # Calculate mean over all songs\n",
    "    df_worlds[\"rating_count\"] = np.zeros(len(df_worlds.index))\n",
    "    df_worlds[\"mean_rating\"] = np.zeros(len(df_worlds.index))\n",
    "    for cur_world in df_worlds.index:\n",
    "        df = df_downloads[df_downloads[\"world_id\"] == cur_world]\n",
    "        df = df[~np.isnan(df[\"mean_rating\"])]\n",
    "        total_rating = float(np.dot(df[\"mean_rating\"], df[\"rating_count\"]))\n",
    "        total_count = float(df[\"rating_count\"].sum())\n",
    "        df_worlds[\"rating_count\"] = total_count\n",
    "        try:\n",
    "            mean_rating = total_rating / total_count\n",
    "            df_worlds.loc[cur_world, \"mean_rating\"] = mean_rating\n",
    "        except ZeroDivisionError:\n",
    "            df_worlds.loc[cur_world, \"mean_rating\"] = np.NaN            \n",
    "    return df_worlds"
   ]
  },
  {
   "cell_type": "markdown",
   "metadata": {},
   "source": [
    "After calculating statistics about the data set, we can use a histogram to visualize how frequent different values are.\n",
    "\n",
    "* Are all values equally frequent?\n",
    "* Is there a specific value that seems most frequent?\n",
    "* How does the frequency of lower values compare to that of higher values?"
   ]
  },
  {
   "cell_type": "code",
   "execution_count": null,
   "metadata": {},
   "outputs": [],
   "source": [
    "# Plot histogram of download counts\n",
    "df_songs = count_song_stats(df_downloads)\n",
    "df_worlds = count_world_stats(df_downloads)\n",
    "plt.hist([ x for x in df_songs[analysis_column] if not np.isnan(x)], bins=20)\n",
    "plt.xlabel(analysis_column)\n",
    "plt.ylabel(\"Frequency\")"
   ]
  },
  {
   "cell_type": "markdown",
   "metadata": {},
   "source": [
    "### Gini coefficient\n",
    "The [Gini coefficient](https://en.wikipedia.org/wiki/Gini_coefficient) is a meaure of how unequally a quantity is distributed. A value of 0 corresponds to a completely equal distribution, while a value of 1 corresponds to a single entity having the entire quantity while all others have nothing.\n",
    "\n",
    "We can use the Gini coefficient to quantify how equally downloads, views, or ratings are distributed between items. \n",
    "\n",
    "First we define some helper functions."
   ]
  },
  {
   "cell_type": "code",
   "execution_count": null,
   "metadata": {},
   "outputs": [],
   "source": [
    "def gini(x):\n",
    "    '''Given a list of counts `x`, return the gini coefficient.'''\n",
    "    x = [xi for xi in x if not np.isnan(xi)]\n",
    "    n = len(x)\n",
    "    gini_num = sum([sum([abs(x_i - x_j) for x_j in x]) for x_i in x])\n",
    "    gini_den = 2.0 * n * sum([x_i for x_i in x])\n",
    "    return gini_num / gini_den\n",
    "\n",
    "def get_world_gini(df_world_song):\n",
    "    world_ids = sorted(set(df_world_song[\"world_id\"]))\n",
    "    df_worlds = pd.DataFrame({\"world_id\": world_ids}).set_index(\"world_id\")\n",
    "    df_worlds[\"gini\"] = [\n",
    "        gini(df_downloads.loc[df_downloads[\"world_id\"] == cur_world, analysis_column])\n",
    "        for cur_world in df_worlds.index]\n",
    "    return df_worlds"
   ]
  },
  {
   "cell_type": "markdown",
   "metadata": {},
   "source": [
    "The plot below shows the Gini coefficient for each world.\n",
    "\n",
    "* How does the Gini coefficient of the independent world compare to the social influence worlds?"
   ]
  },
  {
   "cell_type": "code",
   "execution_count": null,
   "metadata": {},
   "outputs": [],
   "source": [
    "# Calculate and plot the gini coefficient for each world\n",
    "df_world_gini = get_world_gini(df_world_song)\n",
    "plt.bar(df_world_gini.index, df_world_gini[\"gini\"])\n",
    "plt.xticks(df_world_gini.index, df_world_gini.index)\n",
    "plt.xlabel(\"World\")\n",
    "plt.ylabel(\"Gini coefficient\")"
   ]
  },
  {
   "cell_type": "markdown",
   "metadata": {
    "collapsed": true
   },
   "source": [
    "### Market share\n",
    "The market share represents the popularity of an artifact. It can be calculated from several possible quantities, including ratings and downloads.\n",
    "\n",
    "The helper functions below calculate the market share as well as the rank of an artifact's market share compared to all others."
   ]
  },
  {
   "cell_type": "code",
   "execution_count": null,
   "metadata": {},
   "outputs": [],
   "source": [
    "# Calculate market shares\n",
    "def get_market_share(df_world_song):\n",
    "    '''Return a DataFrame containing song_id, world_id, and market_share columns.'''\n",
    "    # Create a copy of the input to return\n",
    "    df = df_world_song.copy()\n",
    "    # Count the total downloads for each world\n",
    "    df_worlds = count_world_stats(df)\n",
    "    world_ids = df_worlds.index\n",
    "    # Calculate the market share\n",
    "    if analysis_column == 'mean_rating':\n",
    "        df[\"market_share\"] = [\n",
    "            float(df.loc[i, \"mean_rating\"] * df.loc[i, \"rating_count\"]) \\\n",
    "                / float(df_worlds.loc[df.loc[i, \"world_id\"]][\"rating_count\"])\n",
    "                / float(df_worlds.loc[df.loc[i, \"world_id\"]][\"mean_rating\"])\n",
    "            for i in df.index]\n",
    "    elif analysis_column == 'download_count':\n",
    "        df[\"market_share\"] = [\n",
    "            float(df.loc[i, \"download_count\"]) \\\n",
    "                / float(df_worlds.loc[df.loc[i, \"world_id\"], \"download_count\"])\n",
    "            for i in df.index]\n",
    "    return df\n",
    "\n",
    "# Calculate market share and rank for each song/world\n",
    "def get_market_rank(df_world_song):\n",
    "    # Get market share\n",
    "    df_world_song[\"market_share\"] = get_market_share(df_world_song)[\"market_share\"]\n",
    "    # Copy market share, and convert to rank one world at a time\n",
    "    ranks = []\n",
    "    for cur_world in sorted(set(df_world_song[\"world_id\"])):\n",
    "        df = df_world_song[df_world_song[\"world_id\"] == cur_world].copy()\n",
    "        df[\"market_rank\"] = df[\"market_share\"].rank(ascending=False)\n",
    "        # Store results for this world in an array\n",
    "        ranks.append(df)\n",
    "    # Concatenate results for all worlds\n",
    "    df_world_song['market_rank'] = pd.concat(ranks)['market_rank']\n",
    "    # Remove nan entries\n",
    "    nan_songs = list(df_world_song[np.isnan(df_world_song[\"market_share\"])][\"song_id\"])\n",
    "    df = df_world_song\n",
    "    for cur_song in nan_songs:\n",
    "        df = df[df[\"song_id\"] != cur_song]\n",
    "    return df"
   ]
  },
  {
   "cell_type": "markdown",
   "metadata": {},
   "source": [
    "We plot the market shares (and ranks) of artifacts in social influence worlds as a function of their market shares (and ranks) in the independent world.\n",
    "* Do you expect the market shares to be correlated between different worlds?\n",
    "* How would you expect the plot to look if there is no social influence? Strong social influence?\n",
    "* How do unpopular artifacts compare to moderatley and very popular artifacts?"
   ]
  },
  {
   "cell_type": "code",
   "execution_count": null,
   "metadata": {},
   "outputs": [],
   "source": [
    "# Get market share and rank\n",
    "df_market = get_market_rank(df_world_song)\n",
    "\n",
    "# Create list of dependent worlds\n",
    "world_ids = sorted(set(df_world_song[\"world_id\"]))\n",
    "dependent_worlds = [x for x in world_ids if x != data.independent_world]\n",
    "\n",
    "# Create a figure\n",
    "plt.figure(figsize(8,4))\n",
    "# Plot social influence market share vs independent market share\n",
    "# Create subplots and use first\n",
    "plt.subplot(1,2,1)\n",
    "for cur_world in dependent_worlds:\n",
    "    plt.plot(\n",
    "        df_market[df_market[\"world_id\"] == data.independent_world]['market_share'],\n",
    "        df_market[df_market[\"world_id\"] == cur_world]['market_share'], '.b')\n",
    "plt.xlabel(\"Market share (Indep.)\")\n",
    "plt.ylabel(\"Market share (Social)\")\n",
    "# Plot social rank vs indpendent rank in second subplot\n",
    "plt.subplot(1,2,2)\n",
    "for cur_world in dependent_worlds:\n",
    "    plt.plot(\n",
    "        df_market[df_market[\"world_id\"] == data.independent_world]['market_rank'],\n",
    "        df_market[df_market[\"world_id\"] == cur_world]['market_rank'], '.b')\n",
    "plt.xlabel(\"Market rank (Indep.)\")\n",
    "plt.ylabel(\"Market rank (Social)\")\n",
    "plt.tight_layout()"
   ]
  },
  {
   "cell_type": "markdown",
   "metadata": {},
   "source": [
    "## Unpredictability\n",
    "Is the success of cultural artifacts more or less predictable when there is social influence? We can compare a given artifact's popularity in different social influence worlds to determine the unpredictability. For the independent case, we have to randomly divide the independent world into multiple worlds and compare between those.\n",
    "\n",
    "The helper functions below calculate the unpredictability of artifacts in both social influence and indpendent worlds."
   ]
  },
  {
   "cell_type": "code",
   "execution_count": null,
   "metadata": {},
   "outputs": [],
   "source": [
    "def find_unpredictability(df_downloads):\n",
    "    '''Return a DataFrame indexed by song_id with an `unpredictability` column.'''\n",
    "    # Create the DataFrame and index from the provided download data\n",
    "    song_ids = sorted(set(df_downloads[\"song_id\"]))\n",
    "    world_ids = sorted(set(df_downloads[\"world_id\"]))\n",
    "    df = pd.DataFrame({\"song_id\": song_ids}) \\\n",
    "        .set_index(\"song_id\")\n",
    "    # Get market share of each song in each world\n",
    "    df_market = get_market_share(df_downloads)\n",
    "    # Calculate and return the unpredictability based on equation in SDW2006\n",
    "    df[\"unpredictability\"] = [\n",
    "        sum([\n",
    "            sum([\n",
    "                abs(\n",
    "                    df_market[\n",
    "                        (df_market[\"song_id\"] == cur_song)\n",
    "                        & (df_market[\"world_id\"] == world_j)\n",
    "                    ][\"market_share\"].sum()\n",
    "                    - df_market[\n",
    "                        (df_market[\"song_id\"] == cur_song)\n",
    "                        & (df_market[\"world_id\"] == world_k)\n",
    "                    ][\"market_share\"].sum()\n",
    "                ) / spspec.comb(len(world_ids), 2)\n",
    "                for k, world_k in enumerate(world_ids[j+1:])])\n",
    "            for j, world_j in enumerate(world_ids)])\n",
    "        for cur_song in df.index]\n",
    "    return df\n",
    "\n",
    "def compare_unpredictability(df_world_song):\n",
    "    # Calculate unpredictability in social influence worlds\n",
    "    df_songs = count_song_stats(df_world_song)\n",
    "    df_social = df_world_song[df_world_song[\"world_id\"] != data.independent_world]\n",
    "    df_songs[\"unpredictability\"] = find_unpredictability(df_social)[\"unpredictability\"]\n",
    "    # Calculate unpredictability in independent world\n",
    "    unpredictability = []\n",
    "    num_iter = 50\n",
    "    for i in range(num_iter):\n",
    "        df_indep_dl = data.sample_independent()\n",
    "        u_i = find_unpredictability(df_indep_dl)[\"unpredictability\"]\n",
    "        unpredictability.append(u_i) \n",
    "    # Average results\n",
    "    # Elements are pandas Series objects, which can be added to each other\n",
    "    u = np.sum(unpredictability, axis=0) / float(num_iter)\n",
    "    # Add to the song DataFrame\n",
    "    df_songs[\"unpredictability_indep\"] = u\n",
    "    return df_songs"
   ]
  },
  {
   "cell_type": "markdown",
   "metadata": {},
   "source": [
    "The plot below visualizes the unpredictability in social influence worlds vs independent worlds.\n",
    "* Why would social influence have an effect on the predictability of an artifact's success?\n",
    "* Would you expect social influence to make success more or less predictable?"
   ]
  },
  {
   "cell_type": "code",
   "execution_count": null,
   "metadata": {
    "scrolled": true
   },
   "outputs": [],
   "source": [
    "# Plot the unpredictability for social and independent worlds\n",
    "df_songs = compare_unpredictability(df_world_song)\n",
    "u_social = df_songs[\"unpredictability\"].sum() / data.num_songs\n",
    "u_indep = df_songs[\"unpredictability_indep\"].sum() / data.num_songs\n",
    "plt.figure(figsize=(6,4))\n",
    "plt.bar([1, 2], [u_social, u_indep])\n",
    "plt.xticks([1,2], [\"Social\", \"Independent\"])\n",
    "plt.ylim([0, max([u_social, u_indep])*2])\n",
    "plt.xlabel(\"World\")\n",
    "plt.ylabel(\"Unpredictability\")"
   ]
  },
  {
   "cell_type": "markdown",
   "metadata": {},
   "source": [
    "## References\n",
    "\n",
    "[SDW2006] Salganik, M. J., Dodds, P. S., & Watts, D. J. (2006). Experimental study of inequality and unpredictability in an artificial cultural market. _Science_, 311(5762), 854-856.\n",
    "\n",
    "[CSW2016] Chen, D.L., Schonger, M., & Wickens, C. (2016). oTree - An open-source platform for laboratory, online and field experiments. _Journal of Behavioral and Experimental Finance_, 9, 88-97."
   ]
  },
  {
   "cell_type": "code",
   "execution_count": null,
   "metadata": {},
   "outputs": [],
   "source": []
  }
 ],
 "metadata": {
  "kernelspec": {
   "display_name": "Python 3",
   "language": "python",
   "name": "python3"
  },
  "language_info": {
   "codemirror_mode": {
    "name": "ipython",
    "version": 3
   },
   "file_extension": ".py",
   "mimetype": "text/x-python",
   "name": "python",
   "nbconvert_exporter": "python",
   "pygments_lexer": "ipython3",
   "version": "3.6.2"
  }
 },
 "nbformat": 4,
 "nbformat_minor": 2
}
