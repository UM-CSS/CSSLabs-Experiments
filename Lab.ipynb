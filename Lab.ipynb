{
 "cells": [
  {
   "cell_type": "code",
   "execution_count": 1,
   "metadata": {
    "scrolled": true
   },
   "outputs": [
    {
     "name": "stdout",
     "output_type": "stream",
     "text": [
      "Populating the interactive namespace from numpy and matplotlib\n"
     ]
    }
   ],
   "source": [
    "# Initialization\n",
    "%pylab inline\n",
    "import matplotlib.pyplot as plt\n",
    "import numpy as np\n",
    "import pandas as pd\n",
    "import scipy as sp\n",
    "import scipy.misc as spmisc"
   ]
  },
  {
   "cell_type": "markdown",
   "metadata": {},
   "source": [
    "## Contents\n",
    "1. [Experiment 1: Grid Layout](#Experiment-1:-Grid-layout)\n",
    "    1. [Descriptive statistics](#Descriptive-statistics)\n",
    "    1. [Gini coefficient](#Gini-coefficient)\n",
    "    1. [Market share](#Market-share)\n",
    "    1. [Unpredictability](#Unpredictability)\n",
    "2. [References](#References)"
   ]
  },
  {
   "cell_type": "markdown",
   "metadata": {},
   "source": [
    "## Experiment 1: Grid layout"
   ]
  },
  {
   "cell_type": "code",
   "execution_count": 2,
   "metadata": {},
   "outputs": [],
   "source": [
    "# Load data from all worlds in SDW experiment 1\n",
    "downloads_file = \"external/CM/musiclab_data/dynamics_downloads_download_w{world}_v{experiment}.txt\"\n",
    "song_ids = range(1,49)\n",
    "world_ids = range(1,10)\n",
    "columns = ['user_id', 'world_id'] \\\n",
    "    + [\"dl_{i}\".format(i=i) for i in song_ids] \\\n",
    "    + ['timestamp']\n",
    "df_raw = pd.concat([\n",
    "    pd.read_csv(\n",
    "        downloads_file.format(world=w, experiment=1),\n",
    "        comment=\"%\",\n",
    "        header=None,\n",
    "        names=columns\n",
    "    )\n",
    "    for w in world_ids])"
   ]
  },
  {
   "cell_type": "code",
   "execution_count": 3,
   "metadata": {},
   "outputs": [],
   "source": [
    "# Create DataFrame for world/song download counts\n",
    "# A single count column is much easier to work with\n",
    "def raw_to_world_song(df_raw):\n",
    "    col_world_id = []\n",
    "    col_song_id = []\n",
    "    col_count = []\n",
    "    # Get list of world ids present in df_raw\n",
    "    world_ids = sorted(set(df_raw[\"world_id\"]))\n",
    "    for cur_world in world_ids:\n",
    "        # Filter by world\n",
    "        df_world = df_raw[df_raw[\"world_id\"] == cur_world]\n",
    "        for cur_song in song_ids:\n",
    "            col_world_id.append(cur_world)\n",
    "            col_song_id.append(cur_song)\n",
    "            count = df_world[\"dl_{}\".format(cur_song)].sum()\n",
    "            col_count.append(count)\n",
    "    df_downloads = pd.DataFrame({\n",
    "        \"world_id\": col_world_id,\n",
    "        \"song_id\": col_song_id,\n",
    "        \"count\": col_count\n",
    "    })\n",
    "    return df_downloads\n",
    "df_downloads = raw_to_world_song(df_raw)"
   ]
  },
  {
   "cell_type": "markdown",
   "metadata": {},
   "source": [
    "### Descriptive statistics"
   ]
  },
  {
   "cell_type": "code",
   "execution_count": 4,
   "metadata": {
    "collapsed": true
   },
   "outputs": [],
   "source": [
    "# Count downloads for each song\n",
    "def count_song_downloads(df_downloads):\n",
    "    # Create list of song_id values present in input\n",
    "    song_ids = sorted(set(df_downloads[\"song_id\"]))\n",
    "    # Create DataFrame for songs\n",
    "    df_songs = pd.DataFrame({\"song_id\":song_ids}) \\\n",
    "        .set_index(\"song_id\")\n",
    "    df_songs[\"total_counts\"] = [\n",
    "        df_downloads[df_downloads[\"song_id\"] == cur_song][\"count\"].sum()\n",
    "        for cur_song in df_songs.index]\n",
    "    return df_songs\n",
    "\n",
    "# Count downloads for each world\n",
    "def count_world_downloads(df_downloads):\n",
    "    # Create list of world_id values present in input\n",
    "    world_ids = sorted(set(df_downloads[\"world_id\"]))\n",
    "    # Create DataFrame for worlds\n",
    "    df_worlds = pd.DataFrame({\"world_id\":world_ids}) \\\n",
    "        .set_index(\"world_id\")\n",
    "    # Count downloads for each world\n",
    "    df_worlds[\"total_counts\"] = [\n",
    "        df_downloads[df_downloads[\"world_id\"] == cur_world][\"count\"].sum()\n",
    "        for cur_world in df_worlds.index\n",
    "    ]\n",
    "    return df_worlds"
   ]
  },
  {
   "cell_type": "code",
   "execution_count": 5,
   "metadata": {},
   "outputs": [
    {
     "data": {
      "text/plain": [
       "<matplotlib.text.Text at 0x10f61b550>"
      ]
     },
     "execution_count": 5,
     "metadata": {},
     "output_type": "execute_result"
    },
    {
     "data": {
      "image/png": "[encoded data removed]",
      "text/plain": [
       "<matplotlib.figure.Figure at 0x110187c50>"
      ]
     },
     "metadata": {},
     "output_type": "display_data"
    }
   ],
   "source": [
    "# Plot histogram of download counts\n",
    "df_songs = count_song_downloads(df_downloads)\n",
    "df_worlds = count_world_downloads(df_downloads)\n",
    "plt.hist(df_songs[\"total_counts\"], bins=20)\n",
    "plt.xlabel(\"Download count\")\n",
    "plt.ylabel(\"Count frequency\")"
   ]
  },
  {
   "cell_type": "markdown",
   "metadata": {},
   "source": [
    "### Gini coefficient"
   ]
  },
  {
   "cell_type": "code",
   "execution_count": 6,
   "metadata": {
    "collapsed": true
   },
   "outputs": [],
   "source": [
    "def gini(x):\n",
    "    '''Given a list of counts `x`, return the gini coefficient.'''\n",
    "    n = len(x)\n",
    "    gini_num = sum([sum([abs(x_i - x_j) for x_j in x]) for x_i in x])\n",
    "    gini_den = 2.0 * n * sum([x_i for x_i in x])\n",
    "    return gini_num / gini_den"
   ]
  },
  {
   "cell_type": "code",
   "execution_count": 7,
   "metadata": {},
   "outputs": [
    {
     "data": {
      "text/plain": [
       "<matplotlib.text.Text at 0x10f77af10>"
      ]
     },
     "execution_count": 7,
     "metadata": {},
     "output_type": "execute_result"
    },
    {
     "data": {
      "image/png": "[encoded data removed]",
      "text/plain": [
       "<matplotlib.figure.Figure at 0x10f56f610>"
      ]
     },
     "metadata": {},
     "output_type": "display_data"
    }
   ],
   "source": [
    "# Calculate and plot the gini coefficient for each world\n",
    "df_worlds[\"gini\"] = [\n",
    "    gini(df_downloads[df_downloads[\"world_id\"] == cur_world][\"count\"])\n",
    "    for cur_world in df_worlds.index]\n",
    "plt.bar(df_worlds.index, df_worlds[\"gini\"])\n",
    "plt.xlabel(\"World\")\n",
    "plt.ylabel(\"Gini coefficient\")"
   ]
  },
  {
   "cell_type": "markdown",
   "metadata": {
    "collapsed": true
   },
   "source": [
    "### Market share"
   ]
  },
  {
   "cell_type": "code",
   "execution_count": 8,
   "metadata": {},
   "outputs": [],
   "source": [
    "# Calculate market shares\n",
    "def find_market_share(df_downloads):\n",
    "    '''Return a DataFrame containing song_id, world_id, and market_share columsn.'''\n",
    "    # Create a copy of the input to return\n",
    "    df = df_downloads.copy()\n",
    "    # Count the total downloads for each world\n",
    "    df_worlds = count_world_downloads(df)\n",
    "    # Calculate the market share\n",
    "    df[\"market_share\"] = [\n",
    "        float(df.loc[i][\"count\"]) \\\n",
    "            / float(df_worlds.loc[df.iloc[i][\"world_id\"]][\"total_counts\"])\n",
    "        for i in df.index]\n",
    "    return df"
   ]
  },
  {
   "cell_type": "code",
   "execution_count": 9,
   "metadata": {},
   "outputs": [],
   "source": [
    "# Calculate market share for each song/world\n",
    "df_downloads[\"market_share\"] = find_market_share(df_downloads)[\"market_share\"]\n",
    "\n",
    "# Copy market share, and convert to rank one world at a time\n",
    "ranks = []\n",
    "for cur_world in sorted(set(df_downloads[\"world_id\"])):\n",
    "    df = df_downloads[df_downloads[\"world_id\"] == cur_world].copy()\n",
    "    df[\"market_rank\"] = df[\"market_share\"].rank(ascending=False)\n",
    "    # Store results for this world in an array\n",
    "    ranks.append(df)\n",
    "# Concatenate results for all worlds\n",
    "df_downloads['market_rank'] = pd.concat(ranks)['market_rank']"
   ]
  },
  {
   "cell_type": "code",
   "execution_count": 10,
   "metadata": {},
   "outputs": [
    {
     "data": {
      "image/png": "[encoded data removed]",
      "text/plain": [
       "<matplotlib.figure.Figure at 0x10f8a0c90>"
      ]
     },
     "metadata": {},
     "output_type": "display_data"
    }
   ],
   "source": [
    "# Create a figure\n",
    "plt.figure(figsize(8,4))\n",
    "\n",
    "# Plot social influence vs independent market share\n",
    "# Create subplots and use first\n",
    "plt.subplot(1,2,1)\n",
    "for cur_world in range(1,9):\n",
    "    plt.plot(\n",
    "        df_downloads[df_downloads[\"world_id\"] == 9]['market_share'],\n",
    "        df_downloads[df_downloads[\"world_id\"] == cur_world]['market_share'], '.b')\n",
    "plt.xlabel(\"Market share (Indep.)\")\n",
    "plt.ylabel(\"Market share (Social)\")\n",
    "\n",
    "# Plot social rank vs indpendent rank in second subplot\n",
    "plt.subplot(1,2,2)\n",
    "for cur_world in range(1,9):\n",
    "    plt.plot(\n",
    "        df_downloads[df_downloads[\"world_id\"] == 9]['market_rank'],\n",
    "        df_downloads[df_downloads[\"world_id\"] == cur_world]['market_rank'], '.b')\n",
    "plt.xlabel(\"Market rank (Indep.)\")\n",
    "plt.ylabel(\"Market rank (Social)\")\n",
    "plt.tight_layout()\n"
   ]
  },
  {
   "cell_type": "markdown",
   "metadata": {},
   "source": [
    "## Unpredictability"
   ]
  },
  {
   "cell_type": "code",
   "execution_count": 11,
   "metadata": {
    "collapsed": true
   },
   "outputs": [],
   "source": [
    "def find_unpredictability(df_downloads):\n",
    "    '''Return a DataFrame indexed by song_id with an `unpredictability` column.'''\n",
    "    # Create the DataFrame and index from the provided download data\n",
    "    df = pd.DataFrame({\"song_id\": list(set(df_downloads[\"song_id\"]))}) \\\n",
    "        .set_index(\"song_id\")\n",
    "    # Get market share of each song in each world\n",
    "    df_market = find_market_share(df_downloads)\n",
    "    # Calculate and return the unpredictability based on equation in SDW2006\n",
    "    df[\"unpredictability\"] = [\n",
    "        sum([\n",
    "            sum([\n",
    "                abs(\n",
    "                    df_market[\n",
    "                        (df_market[\"song_id\"] == cur_song)\n",
    "                        & (df_market[\"world_id\"] == world_j)\n",
    "                    ][\"market_share\"].sum()\n",
    "                    - df_market[\n",
    "                        (df_market[\"song_id\"] == cur_song)\n",
    "                        & (df_market[\"world_id\"] == world_k)\n",
    "                    ][\"market_share\"].sum()\n",
    "                ) / spmisc.comb(len(df_worlds), 2)\n",
    "                for k, world_k in enumerate(df_worlds.index[j+1:])])\n",
    "            for j, world_j in enumerate(df_worlds.index)])\n",
    "        for cur_song in df.index]\n",
    "    return df"
   ]
  },
  {
   "cell_type": "code",
   "execution_count": 12,
   "metadata": {},
   "outputs": [],
   "source": [
    "# Calculate unpredictability in social influence worlds\n",
    "df_social = df_downloads[df_downloads[\"world_id\"] != 9]\n",
    "df_songs[\"unpredictability\"] = find_unpredictability(df_social)[\"unpredictability\"]\n",
    "\n",
    "# Calculate unpredictability in independent world\n",
    "# First, copy data for only independent world\n",
    "df_indep = df_raw[df_raw[\"world_id\"] == 9].copy()\n",
    "# Repeatedly split users into two random worlds and calculate uncertainties\n",
    "unpredictability = []\n",
    "num_iter = 50\n",
    "for i in range(num_iter):\n",
    "    df_indep[\"world_id\"] = np.random.randint(0, 2, size=len(df_indep))\n",
    "    df_indep_dl = raw_to_world_song(df_indep)\n",
    "    u_i = find_unpredictability(df_indep_dl)[\"unpredictability\"]\n",
    "    unpredictability.append(u_i) \n",
    "# Average results\n",
    "# Elements are pandas Series objects, which can be added to each other\n",
    "u = np.sum(unpredictability, axis=0) / float(num_iter)\n",
    "# Add to the song DataFrame\n",
    "df_songs[\"unpredictability_indep\"] = u"
   ]
  },
  {
   "cell_type": "code",
   "execution_count": 13,
   "metadata": {},
   "outputs": [
    {
     "data": {
      "text/plain": [
       "<matplotlib.text.Text at 0x10fce7a90>"
      ]
     },
     "execution_count": 13,
     "metadata": {},
     "output_type": "execute_result"
    },
    {
     "data": {
      "image/png": "[encoded data removed]",
      "text/plain": [
       "<matplotlib.figure.Figure at 0x10f56f7d0>"
      ]
     },
     "metadata": {},
     "output_type": "display_data"
    }
   ],
   "source": [
    "# Plot the unpredictability for social and independent worlds\n",
    "u_social = df_songs[\"unpredictability\"].sum() / float(len(df_songs))\n",
    "u_indep = df_songs[\"unpredictability_indep\"].sum() / float(len(df_songs))\n",
    "plt.figure(figsize=(6,4))\n",
    "plt.bar([1, 2], [u_social, u_indep])\n",
    "plt.xlabel(\"World\")\n",
    "plt.ylabel(\"Unpredictability\")\n"
   ]
  },
  {
   "cell_type": "markdown",
   "metadata": {},
   "source": [
    "## References\n",
    "\n",
    "1. Salganik, M. J., Dodds, P. S., & Watts, D. J. (2006). Experimental study of inequality and unpredictability in an artificial cultural market. _Science_, 311(5762), 854-856."
   ]
  },
  {
   "cell_type": "code",
   "execution_count": null,
   "metadata": {
    "collapsed": true
   },
   "outputs": [],
   "source": []
  }
 ],
 "metadata": {
  "kernelspec": {
   "display_name": "Python 3",
   "language": "python",
   "name": "python3"
  },
  "language_info": {
   "codemirror_mode": {
    "name": "ipython",
    "version": 2
   },
   "file_extension": ".py",
   "mimetype": "text/x-python",
   "name": "python",
   "nbconvert_exporter": "python",
   "pygments_lexer": "ipython2",
   "version": "2.7.10"
  }
 },
 "nbformat": 4,
 "nbformat_minor": 2
}
