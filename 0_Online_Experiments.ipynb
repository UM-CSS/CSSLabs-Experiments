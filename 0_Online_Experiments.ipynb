{
 "cells": [
  {
   "cell_type": "markdown",
   "metadata": {},
   "source": [
    "# CSS Lab: Online Experiments\n",
    "This notebook is a working example of how to analyze online experiments.\n",
    "The lab uses a social influence experiment modeled after (SDW2006).\n",
    "The original experiment measured the popularity of songs, but the analysis can be done for any kind of cultural artifact.\n",
    "\n",
    "## Contents\n",
    "1. [Background](#Section-1%3A-Background)\n",
    "1. [Setup](#Section-2%3A-Setup)\n",
    "    * [2.1 Load Python Libraries](#2.1-Load-Python-Libraries)\n",
    "    * [2.2 Load Data](#2.2-Load-Data)\n",
    "1. [Gini Coefficient](#Section-3%3A-Gini-Coefficient)\n",
    "1. [Experiment](#Section-4%3A-Experiment)\n",
    "    * [4.1 Descriptive Statistics](#4.1-Descriptive-Statistics)\n",
    "    * [4.2 Gini Coefficient](#4.2-Gini-Coefficient)\n",
    "    * [4.3 Market Share](#4.3-Market-Share)\n",
    "    * [4.4 Unpredictability](#4.4-Unpredictability)\n",
    "1. [Reflection](#Section-5%3A-Reflection)\n",
    "2. [References](#References)"
   ]
  },
  {
   "cell_type": "markdown",
   "metadata": {},
   "source": [
    "## Section 1: Background\n",
    "\n",
    "The Music Lab experiment conducted by Salganik, Dodds, and Watts (SDW2006) studied the effects of social influence by observing the music listening behavior of participants.\n",
    "Participants were given a list of songs and allowed to download the ones they liked to listen to later (this was before music streaming was popular). The number of downloads can be a measure of the quality of a song, but it can also result in social influence.\n",
    "\n",
    "The experiment included a single **control** scenario where a group of participants were shown a set of **previously unknown songs from unknown bands** in an randomly ordered grid and were asked to listen, rate, and if they wanted to, download the songs. In order to measure the effect of social influence, the scientists created 8 separate scenarios (or worlds) where  **randomly assigned** participants were shown the number of times each song had been downloaded up to the point of observation. In fact, two versions of the experiment were conducted with different degrees of social influence. In the low-influence scenario, the participants were shown the songs in a grid identical to the control scenario except for the additionally showing the number of times each song was downloaded. In the  high-influence scenario participants were shown the songs in a single column in descending order of the number of downloads. \n",
    "\n",
    "The observations from the experiments were used to answer the two main questions: (1) How did social influence affect the popularity of the songs in comparison to the control scenario? and (2) How did social influence change the predictability of the popularity of songs in comparison to the control scenario?\n",
    "\n",
    "In the rest of the notebook, we will replicate the analyses in the paper using the data from the experiments and interpret the findings.\n",
    "\n",
    "## Section 2: Setup\n",
    "### 2.1 Load Python Libraries\n",
    "We will use several python libraries that make it easier to analyze and plot data."
   ]
  },
  {
   "cell_type": "code",
   "execution_count": null,
   "metadata": {
    "scrolled": true
   },
   "outputs": [],
   "source": [
    "# Initialization\n",
    "%pylab inline\n",
    "import os\n",
    "import matplotlib.pyplot as plt\n",
    "import numpy as np\n",
    "import pandas as pd\n",
    "import scipy as sp\n",
    "from math import factorial\n",
    "import scipy.special as spspec\n",
    "import warnings\n",
    "warnings. filterwarnings('ignore')\n",
    "\n",
    "! pip install plotnine\n",
    "import plotnine\n",
    "from plotnine import *\n"
   ]
  },
  {
   "cell_type": "markdown",
   "metadata": {},
   "source": [
    "### 2.2 Load Data\n",
    "Now we'll define helper functions to read data from either the original experiment."
   ]
  },
  {
   "cell_type": "code",
   "execution_count": null,
   "metadata": {
    "code_folding": [
     0
    ]
   },
   "outputs": [],
   "source": [
    "# Helper functions\n",
    "\n",
    "# Class to manipulate data from original SDW2006 eperiment\n",
    "class SDWData(object):\n",
    "    def __init__(self, path=\"external/CW\", independent_world=9, num_worlds=9, num_songs=48):\n",
    "        self.path = path\n",
    "        self.independent_world = independent_world\n",
    "        self.num_worlds = num_worlds\n",
    "        self.num_songs = num_songs\n",
    "        \n",
    "    # Get a DataFrame with world_id and song_id columns\n",
    "    def get_world_song(self, world=None):\n",
    "        df_sdw = self.get_sdw(world)\n",
    "        return self.sdw_to_world_song(df_sdw)\n",
    "    \n",
    "    # Load the relevant data from the original experiment\n",
    "    def get_sdw(self, world=None):\n",
    "        # Load data from SDW experiment 1\n",
    "        # Load all worlds if world is None\n",
    "        downloads_file = \"{path}/musiclab_data/dynamics_downloads_download_w{world}_v{experiment}.txt\"\n",
    "        song_ids = range(1,self.num_songs+1)\n",
    "        if world is None:\n",
    "            world_ids = range(1, self.num_worlds+1)\n",
    "        else:\n",
    "            world_ids = [world]\n",
    "        columns = ['user_id', 'world_id'] \\\n",
    "            + [\"dl_{i}\".format(i=i) for i in song_ids] \\\n",
    "            + ['timestamp']\n",
    "        df_raw = pd.concat([\n",
    "            pd.read_csv(\n",
    "                downloads_file.format(path=self.path, world=w, experiment=1),\n",
    "                comment=\"%\",\n",
    "                header=None,\n",
    "                names=columns\n",
    "            )\n",
    "            for w in world_ids])\n",
    "        return df_raw\n",
    "\n",
    "    # Convert SDW2006 data to a more usable format\n",
    "    def sdw_to_world_song(self, df_raw):\n",
    "        col_world_id = []\n",
    "        col_song_id = []\n",
    "        col_count = []\n",
    "        song_ids = range(1,self.num_songs + 1)\n",
    "        world_ids = range(1,self.num_worlds + 1)\n",
    "        # Get list of world ids present in df_raw\n",
    "        world_ids = sorted(set(df_raw[\"world_id\"]))\n",
    "        for cur_world in world_ids:\n",
    "            # Filter by world\n",
    "            df_world = df_raw[df_raw[\"world_id\"] == cur_world]\n",
    "            for cur_song in song_ids:\n",
    "                col_world_id.append(cur_world)\n",
    "                col_song_id.append(cur_song)\n",
    "                count = df_world[\"dl_{}\".format(cur_song)].sum()\n",
    "                col_count.append(count)\n",
    "        df_downloads = pd.DataFrame({\n",
    "            \"world_id\": col_world_id,\n",
    "            \"song_id\": col_song_id,\n",
    "            \"download_count\": col_count,\n",
    "            \"rating_count\": 0.0,\n",
    "            \"mean_rating\": 0.0\n",
    "        })\n",
    "        return df_downloads\n",
    "    \n",
    "    # Generate a DataFrame with \n",
    "    def sample_independent(self, num_worlds=2):\n",
    "        df_sdw = self.get_sdw(self.independent_world)\n",
    "        df_sdw[\"world_id\"] = np.random.randint(0, num_worlds, len(df_sdw.index))\n",
    "        return self.sdw_to_world_song(df_sdw)"
   ]
  },
  {
   "cell_type": "markdown",
   "metadata": {},
   "source": [
    "In the Salganik, Dodds, and Watts experiment [SDW2006], participants were assigned to 1 of 9 worlds. The first 8 worlds were \"social influence\" world, allowing participants to see the number of downloads for each song (within their world). The 9th world was a non-influence world, where participants had no info about download count.\n",
    "\n",
    "The next cell will read in the data from the original experiment and display the first few rows. Each row represents the performance of one song in one world, identified by `song_id` and `world_id`. The other most relevant column is `download_count`, which counts how many participants in that world dowloaded the song.\n",
    "\n",
    "We have included some of the data from the original experiment in this lab. To get the full set of data and documentation ftom that study, go to [http://opr.princeton.edu/archive/cm/](http://opr.princeton.edu/archive/cm/)."
   ]
  },
  {
   "cell_type": "code",
   "execution_count": null,
   "metadata": {},
   "outputs": [],
   "source": [
    "data = SDWData(path=\"external/CM\", independent_world=9, num_worlds=9, num_songs=48)\n",
    "df_world_song = data.get_world_song()\n",
    "df_downloads = df_world_song\n",
    "df_world_song.head()"
   ]
  },
  {
   "cell_type": "markdown",
   "metadata": {},
   "source": [
    "## Section 3: Gini Coefficient\n",
    "The [Gini coefficient](https://en.wikipedia.org/wiki/Gini_coefficient) is a meaure of how unequally a quantity such as wealth is distributed. A Gini value of 0 corresponds to a completely equal distribution, while a value of 1 corresponds to a single entity having the entire quantity while all others have nothing.\n",
    "\n",
    "We can use the Gini coefficient to quantify how equally downloads, views, or ratings are distributed between songs (or other cultural artifacts) in the cultural market experiment.\n",
    "\n",
    "First we define some helper functions."
   ]
  },
  {
   "cell_type": "code",
   "execution_count": null,
   "metadata": {
    "code_folding": [
     0
    ]
   },
   "outputs": [],
   "source": [
    "# Helper functions\n",
    "\n",
    "def gini(x):\n",
    "    '''Given a list of counts `x`, return the gini coefficient.'''\n",
    "    x = [xi for xi in x if not np.isnan(xi)]\n",
    "    n = len(x)\n",
    "    gini_num = sum([sum([abs(x_i - x_j) for x_j in x]) for x_i in x])\n",
    "    gini_den = 2.0 * n * sum(x)\n",
    "    return gini_num / gini_den\n",
    "\n",
    "def gini_bootstrap(x, samples=1000):\n",
    "    '''Given a list of counts `x`, return gini estimate and (bootstrap) standard error.'''\n",
    "    x_all = list(x)\n",
    "    n = len(x_all)\n",
    "    num_estimates = []\n",
    "    den_estimates = []\n",
    "    for bootstrap_i in range(samples):\n",
    "        bootstrap = [x_all[random.randint(0, len(x_all) - 1)] for x in x_all]\n",
    "        gini_num = sum([sum([abs(x_i - x_j) for x_j in bootstrap]) for x_i in bootstrap])\n",
    "        gini_den = 2.0 * (n - 1) * sum([x_i for x_i in bootstrap])\n",
    "        num_estimates.append(gini_num)\n",
    "        den_estimates.append(gini_den)\n",
    "    num_mean_sq = sum([est**2 for est in num_estimates]) / len(num_estimates)\n",
    "    num_mean = sum(num_estimates) / len(num_estimates)\n",
    "    den_mean = sum(den_estimates) / len(den_estimates)\n",
    "    num_var = num_mean_sq - (num_mean)**2\n",
    "    gini = num_mean / den_mean\n",
    "    gini_se = math.sqrt(num_var) / den_mean\n",
    "    return gini, gini_se\n",
    "    \n",
    "def get_world_gini(df_world_song):\n",
    "    world_ids = sorted(set(df_world_song[\"world_id\"]))\n",
    "    df_worlds = pd.DataFrame({\"world_id\": world_ids}).set_index(\"world_id\")\n",
    "    world_gini = [\n",
    "        gini_bootstrap(df_downloads.loc[df_downloads[\"world_id\"] == cur_world, analysis_column])\n",
    "        for cur_world in world_ids\n",
    "    ]\n",
    "    gini, gini_se = zip(*world_gini)\n",
    "    df_worlds[\"gini\"] = gini\n",
    "    df_worlds[\"gini_se\"] = gini_se\n",
    "    return df_worlds\n",
    "\n",
    "def gini_hist(x, label):\n",
    "    plt.hist(x, rwidth=0.8, density=True, bins=np.arange(-0.5,5.5,1))\n",
    "    plt.title(\"{}: Gini = {:.2f}\".format(label, gini(x)))\n",
    "    plt.ylim([0,1.2]); plt.xlim([-0.5,4.5]); plt.xticks(range(0,5))\n",
    "    xlabel(\"Wealth\"); ylabel(\"Frequency\")\n",
    "\n",
    "def lorenz_curve(x, label):\n",
    "    x_sorted = sorted(x)\n",
    "    x_sorted_cumsum = np.cumsum(x_sorted)\n",
    "    x_sorted_cumsum_norm = x_sorted_cumsum / x_sorted_cumsum[-1]\n",
    "    x_equal = len(x)*[1]\n",
    "    x_equal_cumsum = np.cumsum(x_equal)\n",
    "    x_equal_cumsum_norm = x_equal_cumsum / x_equal_cumsum[-1]\n",
    "    x_axis_ticks = np.linspace(1/len(x),1,len(x))\n",
    "    data = pd.DataFrame({\"n\": x_axis_ticks , \"x\":x_sorted_cumsum_norm, \"x_equal\":x_equal_cumsum_norm})\n",
    "    data = data.append({\"n\":0,\"x\":0,\"x_equal\":0}, ignore_index=True)\n",
    "    plotnine.options.figure_size = (2, 2)\n",
    "    p = (ggplot(data, aes(x='n', y = 'x')) +\n",
    "            geom_ribbon(aes(ymin = 'x', ymax = 'x_equal'), fill = \"gray\") + \n",
    "            geom_line(aes(y = 'x_equal')) + \n",
    "            geom_area(aes(y = 'x'),fill=\"pink\", color=\"black\") +\n",
    "            geom_point(aes(y= 'x'),size=3) +\n",
    "            xlab(\"fraction of population\") + \n",
    "            ylab(\"cumulative share of wealth\")+\n",
    "            ggtitle(\"{0}: Gini = {1}\".format(label, round(gini(x),2))) +\n",
    "            theme(legend_position=\"none\",axis_title=element_text(size=8),title=element_text(size=8), axis_text=element_text(size=8)))\n",
    "    p.save(filename=\"{0}.png\".format(label),dpi=150)\n",
    "    return p\n",
    "\n",
    "def show_lorenz_plots(plots):\n",
    "    matplotlib.rcParams['figure.dpi']= 150\n",
    "    f, axarr = plt.subplots(1,len(plots),figsize=(20,6))\n",
    "    pidx = 0\n",
    "    for plot in plots:\n",
    "        img = matplotlib.image.imread('{}.png'.format(plot))\n",
    "        imgplot = axarr[pidx].imshow(img)\n",
    "        axarr[pidx].axis('off')\n",
    "        pidx+=1\n",
    "        os.remove('{}.png'.format(plot))\n"
   ]
  },
  {
   "cell_type": "markdown",
   "metadata": {},
   "source": [
    "### The Lorenz Curve\n",
    "\n",
    "The Lorenz is one of the ways in which the inequality in the distribution of a quantity can be visualized. It can be also be used to calculate the Gini coefficient. If we consider the case of the distribution of income or wealth in a population, each point in the curve represents the proportion of overall income or wealth (Y-axis) that is allocated to the bottom N percent of the population (X-axis). Below we consider a few example distributions with their corresponding Lorenz curves and Gini coefficients.  "
   ]
  },
  {
   "cell_type": "code",
   "execution_count": null,
   "metadata": {},
   "outputs": [],
   "source": [
    "lorenz_curve([2,2,2,2,2],\"A\")\n",
    "lorenz_curve([1,2,2,2,3],\"B\")\n",
    "lorenz_curve([0,1,2,3,4],\"C\")\n",
    "lorenz_curve([0,0,0,0,4],\"D\")\n",
    "show_lorenz_plots([\"A\",\"B\",\"C\",\"D\"])\n"
   ]
  },
  {
   "cell_type": "markdown",
   "metadata": {},
   "source": [
    "#### Short Answer 1\n",
    "\n",
    "Play around with the Lorenz curve visualization to see how different curves correspond to different Gini coefficients by changing the distribution below. Find a distribution (of any population size) that has a Gini coefficient between 0.5 and 0.55"
   ]
  },
  {
   "cell_type": "code",
   "execution_count": null,
   "metadata": {},
   "outputs": [],
   "source": [
    "lorenz_curve([2,2,2,2,2],\"E\")"
   ]
  },
  {
   "cell_type": "markdown",
   "metadata": {},
   "source": [
    "The four histograms below show  the same examples of distributions with their Gini coefficients."
   ]
  },
  {
   "cell_type": "code",
   "execution_count": null,
   "metadata": {},
   "outputs": [],
   "source": [
    "plt.figure(figsize=(12,3))\n",
    "plt.subplot(1,4,1)\n",
    "gini_hist([2,2,2,2,2], \"A\")\n",
    "plt.subplot(1,4,2)\n",
    "gini_hist([1,2,2,2,3], \"B\")\n",
    "plt.subplot(1,4,3)\n",
    "gini_hist([0,1,2,3,4], \"C\")\n",
    "plt.subplot(1,4,4)\n",
    "gini_hist([4] + [0]*4, \"D\")\n",
    "plt.tight_layout()"
   ]
  },
  {
   "cell_type": "markdown",
   "metadata": {},
   "source": [
    "#### Short Answer 2\n",
    "The Gini coefficient measures inequality. Which of the four above is the most equal distribution of wealth, and why? Does the Gini coefficient confirm your reasoning?\n",
    "\n",
    "Consider the plot B above. It shows 5 people. Three of the people have 2 units of wealth. If we take all 2 units from one of the people with 2 units of wealth, and give them to another person with 2 units of wealth, which of the above plots would we end up with? Would you expect that process to make the wealth distribution more equal or more unequal? Does the change in Gini coefficient confirm your intuition?"
   ]
  },
  {
   "cell_type": "markdown",
   "metadata": {},
   "source": [
    "🤔 Your answer here:"
   ]
  },
  {
   "cell_type": "markdown",
   "metadata": {},
   "source": [
    "## Section 4: Experiment\n",
    "We will now reproduce some of the figures from the Salganik, Dodds, and Watts experiment [SDW2006]. The main research questions were 1. whether social influence had an effect on the inequality of song success as measured by number of downloads, and 2. whether social influence had an effect on the unpredictability of a song's success, as measured by number of downloads."
   ]
  },
  {
   "cell_type": "markdown",
   "metadata": {},
   "source": [
    "### 4.1 Descriptive Statistics"
   ]
  },
  {
   "cell_type": "code",
   "execution_count": null,
   "metadata": {
    "code_folding": [
     0
    ]
   },
   "outputs": [],
   "source": [
    "# Helper functions\n",
    "\n",
    "# Count downloads for each song\n",
    "def count_song_stats(df_downloads):\n",
    "    # Create list of song_id values present in input\n",
    "    song_ids = sorted(set(df_downloads[\"song_id\"]))\n",
    "    # Create DataFrame for songs\n",
    "    df_songs = pd.DataFrame({\"song_id\":song_ids}) \\\n",
    "        .set_index(\"song_id\")\n",
    "    df_songs[\"download_count\"] = [\n",
    "        df_downloads[df_downloads[\"song_id\"] == cur_song][\"download_count\"].sum()\n",
    "        for cur_song in df_songs.index]\n",
    "    # Calculate mean over all worlds\n",
    "    df_songs[\"mean_rating\"] = np.zeros(len(df_songs.index))\n",
    "    df_songs[\"rating_count\"] = np.zeros(len(df_songs.index))\n",
    "    for cur_song in df_songs.index:\n",
    "        df = df_downloads[df_downloads[\"song_id\"] == cur_song]\n",
    "        df = df[~np.isnan(df[\"mean_rating\"])]\n",
    "        total_rating = float(np.dot(df[\"mean_rating\"], df[\"rating_count\"]))\n",
    "        total_count = float(df[\"rating_count\"].sum())\n",
    "        try:\n",
    "            df_songs[\"rating_count\"] = total_count\n",
    "            mean_rating = total_rating / total_count\n",
    "            df_songs.loc[cur_song, \"mean_rating\"] = mean_rating\n",
    "        except ZeroDivisionError:\n",
    "            df_songs.loc[cur_song, \"mean_rating\"] = np.NaN\n",
    "    return df_songs\n",
    "\n",
    "# Count downloads for each world\n",
    "def count_world_stats(df_downloads):\n",
    "    # Create list of world_id values present in input\n",
    "    world_ids = sorted(set(df_downloads[\"world_id\"]))\n",
    "    # Create DataFrame for worlds\n",
    "    df_worlds = pd.DataFrame({\"world_id\":world_ids}) \\\n",
    "        .set_index(\"world_id\")\n",
    "    # Count downloads for each world\n",
    "    df_worlds[\"download_count\"] = [\n",
    "        df_downloads[df_downloads[\"world_id\"] == cur_world][\"download_count\"].sum()\n",
    "        for cur_world in df_worlds.index\n",
    "    ]\n",
    "    # Calculate mean over all songs\n",
    "    df_worlds[\"rating_count\"] = np.zeros(len(df_worlds.index))\n",
    "    df_worlds[\"mean_rating\"] = np.zeros(len(df_worlds.index))\n",
    "    for cur_world in df_worlds.index:\n",
    "        df = df_downloads[df_downloads[\"world_id\"] == cur_world]\n",
    "        df = df[~np.isnan(df[\"mean_rating\"])]\n",
    "        total_rating = float(np.dot(df[\"mean_rating\"], df[\"rating_count\"]))\n",
    "        total_count = float(df[\"rating_count\"].sum())\n",
    "        df_worlds[\"rating_count\"] = total_count\n",
    "        try:\n",
    "            mean_rating = total_rating / total_count\n",
    "            df_worlds.loc[cur_world, \"mean_rating\"] = mean_rating\n",
    "        except ZeroDivisionError:\n",
    "            df_worlds.loc[cur_world, \"mean_rating\"] = np.NaN            \n",
    "    return df_worlds\n"
   ]
  },
  {
   "cell_type": "code",
   "execution_count": null,
   "metadata": {},
   "outputs": [],
   "source": [
    "# Before starting the analysis, we need to choose which quantity to analyze.\n",
    "analysis_column = \"download_count\""
   ]
  },
  {
   "cell_type": "markdown",
   "metadata": {},
   "source": [
    "After calculating statistics about the data set, we can use a histogram to visualize how frequent different values are. The x-axis represents the download count (or other analysis variable selected above). The height of each bar represents how many items have a download count in the corresponding range."
   ]
  },
  {
   "cell_type": "code",
   "execution_count": null,
   "metadata": {},
   "outputs": [],
   "source": [
    "# Plot histogram of download counts\n",
    "df_songs = count_song_stats(df_downloads)\n",
    "df_worlds = count_world_stats(df_downloads)\n",
    "h = plt.hist([ x for x in df_songs[analysis_column] if not np.isnan(x)], bins=20)\n",
    "plt.title(\"{} observations\".format(sum(h[0])))\n",
    "plt.xlabel(analysis_column)\n",
    "plt.ylabel(\"Frequency\")\n"
   ]
  },
  {
   "cell_type": "markdown",
   "metadata": {},
   "source": [
    "#### Short Answer 3\n",
    "Write a few sentences describing the shape of the above download distribution.\n",
    "Are some download counts more common than others?\n",
    "Where does the most frequent download count (tallest bar) fall between the highest and the lowest?\n",
    "Is the most popular song many times more popular (in terms of downloads) than typical songs or about the same?"
   ]
  },
  {
   "cell_type": "markdown",
   "metadata": {},
   "source": [
    "🤔 Your answer here:\n"
   ]
  },
  {
   "cell_type": "markdown",
   "metadata": {},
   "source": [
    "### 4.2 Gini Coefficient\n",
    "Now we can find the Gini coefficient in each world to compare the inequality in social influence worlds (1-8) to the non-influence world (9). The vertical black bars represent the uncertainty in the calculated value."
   ]
  },
  {
   "cell_type": "code",
   "execution_count": null,
   "metadata": {},
   "outputs": [],
   "source": [
    "# Calculate and plot the gini coefficient for each world\n",
    "df_world_gini = get_world_gini(df_world_song)\n",
    "plt.figure(figsize=(4, 4))\n",
    "plt.grid()\n",
    "plt.bar(df_world_gini.index, df_world_gini[\"gini\"], yerr=df_world_gini[\"gini_se\"])\n",
    "plt.xticks(df_world_gini.index, df_world_gini.index)\n",
    "plt.xlabel(\"World\")\n",
    "plt.ylabel(\"Gini coefficient\")\n"
   ]
  },
  {
   "cell_type": "markdown",
   "metadata": {},
   "source": [
    "#### Short Answer 4\n",
    "Write a few sentences interpreting the figure above, considering the following questions. How does the Gini coefficient of the independent world compare to the social influence worlds? What does that difference\n",
    "mean in the context of the experiment?"
   ]
  },
  {
   "cell_type": "markdown",
   "metadata": {},
   "source": [
    "🤔 Your answer here:"
   ]
  },
  {
   "cell_type": "markdown",
   "metadata": {},
   "source": [
    "### 4.3 Market Share\n",
    "The market share represents the popularity of an artifact. It can be calculated from several possible quantities, including ratings and downloads.\n",
    "\n",
    "The helper functions below calculate the market share as well as the rank of an artifact's market share compared to all others."
   ]
  },
  {
   "cell_type": "code",
   "execution_count": null,
   "metadata": {
    "code_folding": [
     0
    ]
   },
   "outputs": [],
   "source": [
    "# Helper functions\n",
    "\n",
    "# Calculate market shares\n",
    "def get_market_share(df_world_song):\n",
    "    '''Return a DataFrame containing song_id, world_id, and market_share columns.'''\n",
    "    # Create a copy of the input to return\n",
    "    df = df_world_song.copy()\n",
    "    # Count the total downloads for each world\n",
    "    df_worlds = count_world_stats(df)\n",
    "    world_ids = df_worlds.index\n",
    "    # Calculate the market share\n",
    "    if analysis_column == 'mean_rating':\n",
    "        df[\"market_share\"] = [\n",
    "            float(df.loc[i, \"mean_rating\"] * df.loc[i, \"rating_count\"]) \\\n",
    "                / float(df_worlds.loc[df.loc[i, \"world_id\"]][\"rating_count\"])\n",
    "                / float(df_worlds.loc[df.loc[i, \"world_id\"]][\"mean_rating\"])\n",
    "            for i in df.index]\n",
    "    elif analysis_column == 'download_count':\n",
    "        df[\"market_share\"] = [\n",
    "            float(df.loc[i, \"download_count\"]) \\\n",
    "                / float(df_worlds.loc[df.loc[i, \"world_id\"], \"download_count\"])\n",
    "            for i in df.index]\n",
    "    return df\n",
    "\n",
    "# Calculate market share and rank for each song/world\n",
    "def get_market_rank(df_world_song):\n",
    "    # Get market share\n",
    "    df_world_song[\"market_share\"] = get_market_share(df_world_song)[\"market_share\"]\n",
    "    # Copy market share, and convert to rank one world at a time\n",
    "    ranks = []\n",
    "    for cur_world in sorted(set(df_world_song[\"world_id\"])):\n",
    "        df = df_world_song[df_world_song[\"world_id\"] == cur_world].copy()\n",
    "        df[\"market_rank\"] = df[\"market_share\"].rank(ascending=False)\n",
    "        # Store results for this world in an array\n",
    "        ranks.append(df)\n",
    "    # Concatenate results for all worlds\n",
    "    df_world_song['market_rank'] = pd.concat(ranks)['market_rank']\n",
    "    # Remove nan entries\n",
    "    nan_songs = list(df_world_song[np.isnan(df_world_song[\"market_share\"])][\"song_id\"])\n",
    "    df = df_world_song\n",
    "    for cur_song in nan_songs:\n",
    "        df = df[df[\"song_id\"] != cur_song]\n",
    "    return df"
   ]
  },
  {
   "cell_type": "markdown",
   "metadata": {},
   "source": [
    "We plot the market shares (and ranks) of artifacts in social influence worlds as a function of their market shares (and ranks) in the independent world."
   ]
  },
  {
   "cell_type": "code",
   "execution_count": null,
   "metadata": {},
   "outputs": [],
   "source": [
    "# Get market share and rank\n",
    "df_market = get_market_rank(df_world_song)\n",
    "\n",
    "# Create list of dependent worlds\n",
    "world_ids = sorted(set(df_world_song[\"world_id\"]))\n",
    "dependent_worlds = [x for x in world_ids if x != data.independent_world]\n",
    "\n",
    "# Create a figure\n",
    "plt.figure(figsize(8,4))\n",
    "# Plot social influence market share vs independent market share\n",
    "# Create subplots and use first\n",
    "plt.subplot(1,2,1)\n",
    "for cur_world in dependent_worlds:\n",
    "    plt.plot(\n",
    "        df_market[df_market[\"world_id\"] == data.independent_world]['market_share'],\n",
    "        df_market[df_market[\"world_id\"] == cur_world]['market_share'], '.b')\n",
    "plt.xlabel(\"Market share (Indep.)\")\n",
    "plt.ylabel(\"Market share (Social)\")\n",
    "# Plot social rank vs indpendent rank in second subplot\n",
    "plt.subplot(1,2,2)\n",
    "for cur_world in dependent_worlds:\n",
    "    plt.plot(\n",
    "        df_market[df_market[\"world_id\"] == data.independent_world]['market_rank'],\n",
    "        df_market[df_market[\"world_id\"] == cur_world]['market_rank'], '.b')\n",
    "plt.xlabel(\"Market rank (Indep.)\")\n",
    "plt.ylabel(\"Market rank (Social)\")\n",
    "plt.tight_layout()"
   ]
  },
  {
   "cell_type": "markdown",
   "metadata": {},
   "source": [
    "#### Short Answer 5\n",
    "We can consider the market share in the indpendent world a measure of song quality. Write a few sentences answering the following questions.\n",
    "Why might the market share of a song be correlated between different worlds?\n",
    "Why might a song have different market shares in different worlds?\n",
    "How would you expect the plots to look if there was no social influence?\n",
    "If there was strong social influence?\n",
    "In terms of quality, which types of songs have the most and least variance in their market share?\n"
   ]
  },
  {
   "cell_type": "markdown",
   "metadata": {},
   "source": [
    "🤔 Your answer here:"
   ]
  },
  {
   "cell_type": "markdown",
   "metadata": {},
   "source": [
    "### 4.4 Unpredictability\n",
    "In this section, we investigate whether the success of cultural artifacts is more or less predictable when there is social influence.\n",
    "We can compare a given artifact's popularity in different social influence worlds to determine the unpredictability.\n",
    "For the independent case, we have to randomly divide the independent world into multiple worlds and compare between those.\n",
    "\n",
    "The helper functions below calculate the unpredictability of artifacts in both social influence and indpendent worlds."
   ]
  },
  {
   "cell_type": "code",
   "execution_count": null,
   "metadata": {
    "code_folding": [
     0
    ]
   },
   "outputs": [],
   "source": [
    "# Helper functions\n",
    "\n",
    "def find_unpredictability(df_downloads):\n",
    "    '''Return a DataFrame indexed by song_id with an `unpredictability` column.'''\n",
    "    # Create the DataFrame and index from the provided download data\n",
    "    song_ids = sorted(set(df_downloads[\"song_id\"]))\n",
    "    world_ids = sorted(set(df_downloads[\"world_id\"]))\n",
    "    df = pd.DataFrame({\"song_id\": song_ids}) \\\n",
    "        .set_index(\"song_id\")\n",
    "    # Get market share of each song in each world\n",
    "    df_market = get_market_share(df_downloads)\n",
    "    # Calculate and return the unpredictability based on equation in SDW2006\n",
    "    df[\"unpredictability\"] = [\n",
    "        sum([\n",
    "            sum([\n",
    "                abs(\n",
    "                    df_market[\n",
    "                        (df_market[\"song_id\"] == cur_song)\n",
    "                        & (df_market[\"world_id\"] == world_j)\n",
    "                    ][\"market_share\"].sum()\n",
    "                    - df_market[\n",
    "                        (df_market[\"song_id\"] == cur_song)\n",
    "                        & (df_market[\"world_id\"] == world_k)\n",
    "                    ][\"market_share\"].sum()\n",
    "                ) / spspec.comb(len(world_ids), 2)\n",
    "                for k, world_k in enumerate(world_ids[j+1:])])\n",
    "            for j, world_j in enumerate(world_ids)])\n",
    "        for cur_song in df.index]\n",
    "    return df\n",
    "\n",
    "def compare_unpredictability(df_world_song):\n",
    "    # Calculate unpredictability in social influence worlds\n",
    "    df_songs = count_song_stats(df_world_song)\n",
    "    df_social = df_world_song[df_world_song[\"world_id\"] != data.independent_world]\n",
    "    df_songs[\"unpredictability\"] = find_unpredictability(df_social)[\"unpredictability\"]\n",
    "    # Calculate unpredictability in independent world\n",
    "    unpredictability = []\n",
    "    num_iter = 50\n",
    "    for i in range(num_iter):\n",
    "        df_indep_dl = data.sample_independent()\n",
    "        u_i = find_unpredictability(df_indep_dl)[\"unpredictability\"]\n",
    "        unpredictability.append(u_i) \n",
    "    # Average results\n",
    "    # Elements are pandas Series objects, which can be added to each other\n",
    "    u = np.sum(unpredictability, axis=0) / float(num_iter)\n",
    "    # Add to the song DataFrame\n",
    "    df_songs[\"unpredictability_indep\"] = u\n",
    "    return df_songs\n",
    "\n",
    "def calculate_toy_unpredictability(x):\n",
    "    n_experiments = x.shape[0]\n",
    "    n_items = x.shape[1]\n",
    "    abs_diff = 0\n",
    "    for i in range(0,n_items):\n",
    "        for j in range(0,n_experiments):\n",
    "            for k in range(j, n_experiments):\n",
    "                abs_diff += abs(x[j,i] - x[k,i])\n",
    "    unpred = abs_diff/(n_items*int(factorial(n_experiments)/(factorial(n_experiments-2)*2)))\n",
    "    return round(unpred,3) \n"
   ]
  },
  {
   "cell_type": "markdown",
   "metadata": {},
   "source": [
    "First, let's gain some intuition about what we mean by unpredictability of a measurement. Imagine a version of the music lab experiment where we have the ability to erase the memory of the participants and have them repeat the experiment multiple times. In this setting, the order in which the participants come in and engage with the experiment can change from run to run. This, and other reasons, mean that the final download counts for a song across each iteration can change. This variation is the what we call the **unpredictability**. Let's consider a toy example with three runs of the experiment across a small number of songs."
   ]
  },
  {
   "cell_type": "code",
   "execution_count": null,
   "metadata": {},
   "outputs": [],
   "source": [
    "# each row represents the distribution of market share across songs for a single run (should sum up to 1).  Each row must have the same number of values (songs)\n",
    "U1 = calculate_toy_unpredictability(np.array([\n",
    "        [0.4,0.3,0.15,0.1,0.05],\n",
    "        [0.45,0.4,0.05,0.05,0.05],\n",
    "        [0.3,0.2,0.2,0.2,0.1]\n",
    "    ]))\n",
    "\n",
    "U2 = calculate_toy_unpredictability(np.array([\n",
    "        [0.49, 0.03, 0.16, 0.15, 0.16],\n",
    "        [0.3 , 0.04, 0.01, 0.38, 0.27],\n",
    "        [0.14, 0.04, 0.33, 0.05, 0.44]\n",
    "]))\n",
    "\n",
    "U3 = calculate_toy_unpredictability(np.array([\n",
    "        [0.2,0.2,0.2,0.2,0.2],\n",
    "        [0.22,0.18,0.23,0.18,0.19],\n",
    "        [0.15,0.22,0.23,0.2,0.2]\n",
    "]))\n",
    "\n",
    "plt.figure(figsize=(6,4))\n",
    "plt.bar([1, 2, 3], [U1, U2, U3])\n",
    "plt.xticks([1,2, 3], [\"Scenario 1\", \"Scenario 2\", \"Scenario 3\"])\n",
    "plt.ylim([0, max([U1, U2, U3])*1.5])\n",
    "plt.xlabel(\"Scenario\")\n",
    "plt.ylabel(\"Unpredictability\")\n"
   ]
  },
  {
   "cell_type": "markdown",
   "metadata": {},
   "source": [
    "#### Short Answer 6\n",
    "\n",
    "Play around with distributions in the cell below. Give an example of a series of distributions of market share that would indicate even less predictability than the ones shown above. "
   ]
  },
  {
   "cell_type": "code",
   "execution_count": null,
   "metadata": {},
   "outputs": [],
   "source": [
    "U4 = calculate_toy_unpredictability(np.array([\n",
    "        [0.4,0.3,0.1,0.1,0.1],\n",
    "        [0.4,0.3,0.1,0.1,0.1],\n",
    "        [0.4,0.3,0.1,0.1,0.1]\n",
    "]))\n",
    "print(U4)"
   ]
  },
  {
   "cell_type": "markdown",
   "metadata": {},
   "source": [
    "The plot below visualizes the unpredictability in social influence worlds vs independent worlds."
   ]
  },
  {
   "cell_type": "code",
   "execution_count": null,
   "metadata": {
    "scrolled": true
   },
   "outputs": [],
   "source": [
    "# Plot the unpredictability for social and independent worlds\n",
    "df_songs = compare_unpredictability(df_world_song)\n",
    "u_social = df_songs[\"unpredictability\"].sum() / data.num_songs\n",
    "u_indep = df_songs[\"unpredictability_indep\"].sum() / data.num_songs\n",
    "plt.figure(figsize=(6,4))\n",
    "plt.bar([1, 2], [u_social, u_indep])\n",
    "plt.xticks([1,2], [\"Social\", \"Independent\"])\n",
    "plt.ylim([0, max([u_social, u_indep])*2])\n",
    "plt.xlabel(\"World\")\n",
    "plt.ylabel(\"Unpredictability\")"
   ]
  },
  {
   "cell_type": "markdown",
   "metadata": {},
   "source": [
    "#### Short Answer 7\n",
    "Write a few sentences interpreting the above plot, considering the following questions.\n",
    "How could social influence have an effect on the predictability of an artifact's success?\n",
    "Would you expect social influence to make success more or less predictable? Why?"
   ]
  },
  {
   "cell_type": "markdown",
   "metadata": {},
   "source": [
    "🤔 Your answer here:"
   ]
  },
  {
   "cell_type": "markdown",
   "metadata": {},
   "source": [
    "## Section 5: Reflection\n",
    "\n",
    "#### Reflection Question 1\n",
    "Consider the distribution plotted in the following cell. By comparing it to the plots in [Section 3](#Section-3%3A-Gini-Coefficient) and their Gini coefficients, what range would you expect the Gini coefficient for this plot to fall into, and why?"
   ]
  },
  {
   "cell_type": "code",
   "execution_count": null,
   "metadata": {},
   "outputs": [],
   "source": [
    "plt.figure(figsize=(3,3))\n",
    "x = [0,0,1,2,4]\n",
    "plt.hist(x, rwidth=0.8, density=True, bins=np.arange(-0.5,5.5,1))\n",
    "plt.ylim([0,1.2]); plt.xlim([-0.5,4.5]); plt.xticks(range(0,5))\n",
    "xlabel(\"Wealth\"); ylabel(\"Frequency\")\n",
    "plt.tight_layout()"
   ]
  },
  {
   "cell_type": "markdown",
   "metadata": {},
   "source": [
    "🤔 Your answer here:"
   ]
  },
  {
   "cell_type": "markdown",
   "metadata": {},
   "source": [
    "#### Reflection Question 2\n",
    "Assuming the results of the (SDW2006) are true in general, and social influence results in higher unpredicatbility and inequality, write a paragraph addressing the following questions.\n",
    "If you are designing a site to stream music and you want to make sure the popularity of a song accuratley reflects its quality, would you include information about download counts, ratings, etc. when the song appears? Why or why not?\n",
    "Would you include that information if you wanted the site to have\n",
    "\"rock stars\" who are much more popular than their peers? Why or why not?\n",
    "If you wanted users to be able to quickly find good music, would you include information about download counts and ratings? Why or why not?\n"
   ]
  },
  {
   "cell_type": "markdown",
   "metadata": {},
   "source": [
    "🤔 Your answer here:"
   ]
  },
  {
   "cell_type": "markdown",
   "metadata": {},
   "source": [
    "#### Reflection Question 3\n",
    "Now that you've reproduced the analysis from (SDW2006), it's your turn! You will be running your own online experiment to measure the effects of social influence. Before starting an experiment, it's important to think about how many participants you will need in order to find what you're looking for. This is called power analysis. The smaller the effect you're trying to find, the more participants you will need.\n",
    "\n",
    "In (SDW2006) experiment 1, songs were shown in a grid, creating a weak social influence. In this case, not very many participants are necessary to see the unpredictability effect, but we have calculated that at least 900 participants in each world are necessary to observe an effect on inequality. In experiment 2, the songs were shown in a list, creating a strong social influence effect. In this case, only 450 participants are necessary in each world.\n",
    "\n",
    "Write a paragraph answering the following questions.\n",
    "If the social influence condition in your experiment has the same effect size as (SDW2006) experiment 2, and you have 4 worlds, how many participants will you need in total?\n",
    "If your number of participants is limited, you want to make sure the effect size is as strong as possible. Should you use a grid layout (as in experiment 1) or a list layout (as in experiment 2)?\n",
    "Can you think of any other ways you might create a larger social influence effect?"
   ]
  },
  {
   "cell_type": "markdown",
   "metadata": {},
   "source": [
    "🤔 Your answer here:"
   ]
  },
  {
   "cell_type": "markdown",
   "metadata": {},
   "source": [
    "#### Reflection Question 4"
   ]
  },
  {
   "cell_type": "markdown",
   "metadata": {},
   "source": [
    "In this week's lecture, and now in this lab, we've seen how social influence can be leveraged in systems (particularly online in settings like search engines, recommendation etc.). Reflect on the positive and negative implications of amplifying social influence in this manner. Write a few sentences."
   ]
  },
  {
   "cell_type": "markdown",
   "metadata": {},
   "source": [
    "🤔 Your answer here:"
   ]
  },
  {
   "cell_type": "markdown",
   "metadata": {},
   "source": [
    "## References\n",
    "\n",
    "(SDW2006) Salganik, M. J., Dodds, P. S., & Watts, D. J. (2006). Experimental study of inequality and unpredictability in an artificial cultural market. _Science_, 311(5762), 854-856."
   ]
  },
  {
   "cell_type": "markdown",
   "metadata": {},
   "source": []
  }
 ],
 "metadata": {
  "kernelspec": {
   "display_name": "Python 3 (ipykernel)",
   "language": "python",
   "name": "python3"
  },
  "language_info": {
   "codemirror_mode": {
    "name": "ipython",
    "version": 3
   },
   "file_extension": ".py",
   "mimetype": "text/x-python",
   "name": "python",
   "nbconvert_exporter": "python",
   "pygments_lexer": "ipython3",
   "version": "3.7.2"
  }
 },
 "nbformat": 4,
 "nbformat_minor": 4
}
