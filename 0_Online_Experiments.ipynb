{
 "cells": [
  {
   "cell_type": "markdown",
   "metadata": {},
   "source": [
    "# CSS Lab: Online Experiments\n",
    "This notebook is a working example of how to analyze online experiments.\n",
    "The lab uses a social influence experiment modeled after (SDW2006).\n",
    "The original experiment measured the popularity of songs, but the analysis can be done for any kind of cultural artifact.\n",
    "\n",
    "## Contents\n",
    "1. [Background](#Section-1%3A-Background)\n",
    "1. [Setup](#Section-2%3A-Setup)\n",
    "    * [2.1 Load Python Libraries](#2.1-Load-Python-Libraries)\n",
    "    * [2.2 Load Data](#2.2-Load-Data)\n",
    "1. [Gini Coefficient](#Section-3%3A-Gini-Coefficient)\n",
    "1. [Experiment](#Section-4%3A-Experiment)\n",
    "    * [4.1 Descriptive Statistics](#4.1-Descriptive-Statistics)\n",
    "    * [4.2 Gini Coefficient](#4.2-Gini-Coefficient)\n",
    "    * [4.3 Market Share](#4.3-Market-Share)\n",
    "    * [4.4 Unpredictability](#4.4-Unpredictability)\n",
    "1. [Reflection](#Section-5%3A-Reflection)\n",
    "2. [References](#References)"
   ]
  },
  {
   "cell_type": "markdown",
   "metadata": {},
   "source": [
    "## Section 1: Background\n",
    "\n",
    "The Music Lab experiment conducted by Salganik, Dodds, and Watts (SDW2006) studied the effects of social influence by observing the music listening behavior of participants.\n",
    "Participants were given a list of songs and allowed to download the ones they liked to listen to later (this was before music streaming was popular). The number of downloads can be a measure of the quality of a song, but it can also result in social influence.\n",
    "\n",
    "The experiment included a single **control** scenario where a group of participants were shown a set of **previously unknown songs from unknown bands** in an randomly ordered grid and were asked to listen, rate, and if they wanted to, download the songs. In order to measure the effect of social influence, the scientists created 8 separate scenarios (or worlds) where  **randomly assigned** participants were shown the number of times each song had been downloaded up to the point of observation. In fact, two versions of the experiment were conducted with different degrees of social influence. In the low-influence scenario, the participants were shown the songs in a grid identical to the control scenario except for the additionally showing the number of times each song was downloaded. In the  high-influence scenario participants were shown the songs in a single column in descending order of the number of downloads. \n",
    "\n",
    "The observations from the experiments were used to answer the two main questions: (1) How did social influence affect the popularity of the songs in comparison to the control scenario? and (2) How did social influence change the predictability of the popularity of songs in comparison to the control scenario?\n",
    "\n",
    "In the rest of the notebook, we will replicate the analyses in the paper using the data from the experiments and interpret the findings.\n",
    "\n",
    "## Section 2: Setup\n",
    "### 2.1 Load Python Libraries\n",
    "We will use several python libraries that make it easier to analyze and plot data."
   ]
  },
  {
   "cell_type": "code",
   "execution_count": null,
   "metadata": {
    "scrolled": true
   },
   "outputs": [
    {
     "name": "stdout",
     "output_type": "stream",
     "text": [
      "%pylab is deprecated, use %matplotlib inline and import the required libraries.\n",
      "Populating the interactive namespace from numpy and matplotlib\n",
      "Collecting plotnine\n",
      "  Using cached plotnine-0.10.1-py3-none-any.whl (1.2 MB)\n",
      "Requirement already satisfied: numpy>=1.19.0 in /opt/conda/lib/python3.10/site-packages (from plotnine) (1.23.5)\n",
      "Requirement already satisfied: patsy>=0.5.1 in /opt/conda/lib/python3.10/site-packages (from plotnine) (0.5.3)\n",
      "Requirement already satisfied: scipy>=1.5.0 in /opt/conda/lib/python3.10/site-packages (from plotnine) (1.9.3)\n",
      "Requirement already satisfied: pandas>=1.3.5 in /opt/conda/lib/python3.10/site-packages (from plotnine) (1.5.2)\n",
      "Requirement already satisfied: statsmodels>=0.13.2 in /opt/conda/lib/python3.10/site-packages (from plotnine) (0.13.5)\n",
      "Collecting mizani>=0.8.1\n",
      "  Using cached mizani-0.8.1-py3-none-any.whl (64 kB)\n",
      "Requirement already satisfied: matplotlib>=3.5.0 in /opt/conda/lib/python3.10/site-packages (from plotnine) (3.6.2)\n",
      "Requirement already satisfied: packaging>=20.0 in /opt/conda/lib/python3.10/site-packages (from matplotlib>=3.5.0->plotnine) (22.0)\n",
      "Requirement already satisfied: contourpy>=1.0.1 in /opt/conda/lib/python3.10/site-packages (from matplotlib>=3.5.0->plotnine) (1.0.6)\n",
      "Requirement already satisfied: pillow>=6.2.0 in /opt/conda/lib/python3.10/site-packages (from matplotlib>=3.5.0->plotnine) (9.2.0)\n",
      "Requirement already satisfied: fonttools>=4.22.0 in /opt/conda/lib/python3.10/site-packages (from matplotlib>=3.5.0->plotnine) (4.38.0)\n",
      "Requirement already satisfied: cycler>=0.10 in /opt/conda/lib/python3.10/site-packages (from matplotlib>=3.5.0->plotnine) (0.11.0)\n",
      "Requirement already satisfied: pyparsing>=2.2.1 in /opt/conda/lib/python3.10/site-packages (from matplotlib>=3.5.0->plotnine) (3.0.9)\n",
      "Requirement already satisfied: kiwisolver>=1.0.1 in /opt/conda/lib/python3.10/site-packages (from matplotlib>=3.5.0->plotnine) (1.4.4)\n",
      "Requirement already satisfied: python-dateutil>=2.7 in /opt/conda/lib/python3.10/site-packages (from matplotlib>=3.5.0->plotnine) (2.8.2)\n",
      "Collecting palettable\n",
      "  Using cached palettable-3.3.0-py2.py3-none-any.whl (111 kB)\n",
      "Requirement already satisfied: pytz>=2020.1 in /opt/conda/lib/python3.10/site-packages (from pandas>=1.3.5->plotnine) (2022.7)\n",
      "Requirement already satisfied: six in /opt/conda/lib/python3.10/site-packages (from patsy>=0.5.1->plotnine) (1.16.0)\n",
      "Installing collected packages: palettable, mizani, plotnine\n",
      "Successfully installed mizani-0.8.1 palettable-3.3.0 plotnine-0.10.1\n"
     ]
    }
   ],
   "source": [
    "# Initialization\n",
    "%pylab inline\n",
    "import os\n",
    "import matplotlib.pyplot as plt\n",
    "import numpy as np\n",
    "import pandas as pd\n",
    "import scipy as sp\n",
    "from math import factorial, sqrt\n",
    "import scipy.special as spspec\n",
    "import warnings\n",
    "warnings. filterwarnings('ignore')\n",
    "\n",
    "! pip install plotnine\n",
    "import plotnine\n",
    "from plotnine import *\n"
   ]
  },
  {
   "cell_type": "markdown",
   "metadata": {},
   "source": [
    "### 2.2 Load Data\n",
    "Now we'll define helper functions to read data from either the original experiment."
   ]
  },
  {
   "cell_type": "code",
   "execution_count": null,
   "metadata": {
    "code_folding": [
     0
    ]
   },
   "outputs": [],
   "source": [
    "# Helper functions\n",
    "\n",
    "# Class to manipulate data from original SDW2006 eperiment\n",
    "class SDWData(object):\n",
    "    def __init__(self, path=\"external/CW\", independent_world=9, num_worlds=9, num_songs=48):\n",
    "        self.path = path\n",
    "        self.independent_world = independent_world\n",
    "        self.num_worlds = num_worlds\n",
    "        self.num_songs = num_songs\n",
    "        \n",
    "    # Get a DataFrame with world_id and song_id columns\n",
    "    def get_world_song(self, world=None):\n",
    "        df_sdw = self.get_sdw(world)\n",
    "        return self.sdw_to_world_song(df_sdw)\n",
    "    \n",
    "    # Load the relevant data from the original experiment\n",
    "    def get_sdw(self, world=None):\n",
    "        # Load data from SDW experiment 1\n",
    "        # Load all worlds if world is None\n",
    "        downloads_file = \"{path}/musiclab_data/dynamics_downloads_download_w{world}_v{experiment}.txt\"\n",
    "        song_ids = range(1,self.num_songs+1)\n",
    "        if world is None:\n",
    "            world_ids = range(1, self.num_worlds+1)\n",
    "        else:\n",
    "            world_ids = [world]\n",
    "        columns = ['user_id', 'world_id'] \\\n",
    "            + [\"dl_{i}\".format(i=i) for i in song_ids] \\\n",
    "            + ['timestamp']\n",
    "        df_raw = pd.concat([\n",
    "            pd.read_csv(\n",
    "                downloads_file.format(path=self.path, world=w, experiment=1),\n",
    "                comment=\"%\",\n",
    "                header=None,\n",
    "                names=columns\n",
    "            )\n",
    "            for w in world_ids])\n",
    "        return df_raw\n",
    "\n",
    "    # Convert SDW2006 data to a more usable format\n",
    "    def sdw_to_world_song(self, df_raw):\n",
    "        col_world_id = []\n",
    "        col_song_id = []\n",
    "        col_count = []\n",
    "        song_ids = range(1,self.num_songs + 1)\n",
    "        world_ids = range(1,self.num_worlds + 1)\n",
    "        # Get list of world ids present in df_raw\n",
    "        world_ids = sorted(set(df_raw[\"world_id\"]))\n",
    "        for cur_world in world_ids:\n",
    "            # Filter by world\n",
    "            df_world = df_raw[df_raw[\"world_id\"] == cur_world]\n",
    "            for cur_song in song_ids:\n",
    "                col_world_id.append(cur_world)\n",
    "                col_song_id.append(cur_song)\n",
    "                count = df_world[\"dl_{}\".format(cur_song)].sum()\n",
    "                col_count.append(count)\n",
    "        df_downloads = pd.DataFrame({\n",
    "            \"world_id\": col_world_id,\n",
    "            \"song_id\": col_song_id,\n",
    "            \"download_count\": col_count,\n",
    "            \"rating_count\": 0.0,\n",
    "            \"mean_rating\": 0.0\n",
    "        })\n",
    "        return df_downloads\n",
    "    \n",
    "    # Generate a DataFrame with \n",
    "    def sample_independent(self, num_worlds=2):\n",
    "        df_sdw = self.get_sdw(self.independent_world)\n",
    "        df_sdw[\"world_id\"] = np.random.randint(0, num_worlds, len(df_sdw.index))\n",
    "        return self.sdw_to_world_song(df_sdw)"
   ]
  },
  {
   "cell_type": "markdown",
   "metadata": {},
   "source": [
    "In the Salganik, Dodds, and Watts experiment [SDW2006], participants were assigned to 1 of 9 worlds. The first 8 worlds were \"social influence\" world, allowing participants to see the number of downloads for each song (within their world). The 9th world was a non-influence world, where participants had no info about download count.\n",
    "\n",
    "The next cell will read in the data from the original experiment and display the first few rows. Each row represents the performance of one song in one world, identified by `song_id` and `world_id`. The other most relevant column is `download_count`, which counts how many participants in that world dowloaded the song.\n",
    "\n",
    "We have included some of the data from the original experiment in this lab. To get the full set of data and documentation ftom that study, go to [http://opr.princeton.edu/archive/cm/](http://opr.princeton.edu/archive/cm/)."
   ]
  },
  {
   "cell_type": "code",
   "execution_count": null,
   "metadata": {},
   "outputs": [
    {
     "data": {
      "text/html": [
       "<div>\n",
       "<style scoped>\n",
       "    .dataframe tbody tr th:only-of-type {\n",
       "        vertical-align: middle;\n",
       "    }\n",
       "\n",
       "    .dataframe tbody tr th {\n",
       "        vertical-align: top;\n",
       "    }\n",
       "\n",
       "    .dataframe thead th {\n",
       "        text-align: right;\n",
       "    }\n",
       "</style>\n",
       "<table border=\"1\" class=\"dataframe\">\n",
       "  <thead>\n",
       "    <tr style=\"text-align: right;\">\n",
       "      <th></th>\n",
       "      <th>world_id</th>\n",
       "      <th>song_id</th>\n",
       "      <th>download_count</th>\n",
       "      <th>rating_count</th>\n",
       "      <th>mean_rating</th>\n",
       "    </tr>\n",
       "  </thead>\n",
       "  <tbody>\n",
       "    <tr>\n",
       "      <th>0</th>\n",
       "      <td>1</td>\n",
       "      <td>1</td>\n",
       "      <td>15</td>\n",
       "      <td>0.0</td>\n",
       "      <td>0.0</td>\n",
       "    </tr>\n",
       "    <tr>\n",
       "      <th>1</th>\n",
       "      <td>1</td>\n",
       "      <td>2</td>\n",
       "      <td>18</td>\n",
       "      <td>0.0</td>\n",
       "      <td>0.0</td>\n",
       "    </tr>\n",
       "    <tr>\n",
       "      <th>2</th>\n",
       "      <td>1</td>\n",
       "      <td>3</td>\n",
       "      <td>7</td>\n",
       "      <td>0.0</td>\n",
       "      <td>0.0</td>\n",
       "    </tr>\n",
       "    <tr>\n",
       "      <th>3</th>\n",
       "      <td>1</td>\n",
       "      <td>4</td>\n",
       "      <td>11</td>\n",
       "      <td>0.0</td>\n",
       "      <td>0.0</td>\n",
       "    </tr>\n",
       "    <tr>\n",
       "      <th>4</th>\n",
       "      <td>1</td>\n",
       "      <td>5</td>\n",
       "      <td>9</td>\n",
       "      <td>0.0</td>\n",
       "      <td>0.0</td>\n",
       "    </tr>\n",
       "  </tbody>\n",
       "</table>\n",
       "</div>"
      ],
      "text/plain": [
       "   world_id  song_id  download_count  rating_count  mean_rating\n",
       "0         1        1              15           0.0          0.0\n",
       "1         1        2              18           0.0          0.0\n",
       "2         1        3               7           0.0          0.0\n",
       "3         1        4              11           0.0          0.0\n",
       "4         1        5               9           0.0          0.0"
      ]
     },
     "execution_count": 14,
     "metadata": {},
     "output_type": "execute_result"
    }
   ],
   "source": [
    "# load and check the data\n",
    "data = SDWData(path=\"external/CM\", independent_world=9, num_worlds=9, num_songs=48)\n",
    "df_world_song = data.get_world_song()\n",
    "df_downloads = df_world_song\n",
    "df_world_song.head()"
   ]
  },
  {
   "cell_type": "markdown",
   "metadata": {},
   "source": [
    "## Section 3: Gini Coefficient\n",
    "The [Gini coefficient](https://en.wikipedia.org/wiki/Gini_coefficient) is a meaure of how unequally a quantity such as wealth is distributed. A Gini value of 0 corresponds to a completely equal distribution, while a value of 1 corresponds to a single entity having the entire quantity while all others have nothing.\n",
    "\n",
    "We can use the Gini coefficient to quantify how equally downloads, views, or ratings are distributed between songs (or other cultural artifacts) in the cultural market experiment.\n",
    "\n",
    "First we define some helper functions."
   ]
  },
  {
   "cell_type": "code",
   "execution_count": null,
   "metadata": {
    "code_folding": [
     0
    ]
   },
   "outputs": [],
   "source": [
    "# Helper functions\n",
    "\n",
    "def gini(x):\n",
    "    '''Given a list of counts `x`, return the gini coefficient.'''\n",
    "    x = [xi for xi in x if not np.isnan(xi)]\n",
    "    n = len(x)\n",
    "    gini_num = sum([sum([abs(x_i - x_j) for x_j in x]) for x_i in x])\n",
    "    gini_den = 2.0 * n * sum(x)\n",
    "    return gini_num / gini_den\n",
    "\n",
    "def gini_bootstrap(x, samples=1000):\n",
    "    '''Given a list of counts `x`, return gini estimate and (bootstrap) standard error.'''\n",
    "    x_all = list(x)\n",
    "    n = len(x_all)\n",
    "    num_estimates = []\n",
    "    den_estimates = []\n",
    "    for bootstrap_i in range(samples):\n",
    "        bootstrap = [x_all[random.randint(0, len(x_all) - 1)] for x in x_all]\n",
    "        gini_num = sum([sum([abs(x_i - x_j) for x_j in bootstrap]) for x_i in bootstrap])\n",
    "        gini_den = 2.0 * (n - 1) * sum([x_i for x_i in bootstrap])\n",
    "        num_estimates.append(gini_num)\n",
    "        den_estimates.append(gini_den)\n",
    "    num_mean_sq = sum([est**2 for est in num_estimates]) / len(num_estimates)\n",
    "    num_mean = sum(num_estimates) / len(num_estimates)\n",
    "    den_mean = sum(den_estimates) / len(den_estimates)\n",
    "    num_var = num_mean_sq - (num_mean)**2\n",
    "    gini = num_mean / den_mean\n",
    "    gini_se = sqrt(num_var) / den_mean\n",
    "    return gini, gini_se\n",
    "    \n",
    "def get_world_gini(df_world_song):\n",
    "    world_ids = sorted(set(df_world_song[\"world_id\"]))\n",
    "    df_worlds = pd.DataFrame({\"world_id\": world_ids}).set_index(\"world_id\")\n",
    "    world_gini = [\n",
    "        gini_bootstrap(df_downloads.loc[df_downloads[\"world_id\"] == cur_world, analysis_column])\n",
    "        for cur_world in world_ids\n",
    "    ]\n",
    "    gini, gini_se = zip(*world_gini)\n",
    "    df_worlds[\"gini\"] = gini\n",
    "    df_worlds[\"gini_se\"] = gini_se\n",
    "    return df_worlds\n",
    "\n",
    "def gini_hist(x, label):\n",
    "    plt.hist(x, rwidth=0.8, density=True, bins=np.arange(-0.5,5.5,1))\n",
    "    plt.title(\"{}: Gini = {:.2f}\".format(label, gini(x)))\n",
    "    plt.ylim([0,1.2]); plt.xlim([-0.5,4.5]); plt.xticks(range(0,5))\n",
    "    xlabel(\"Wealth\"); ylabel(\"Frequency\")\n",
    "\n",
    "def lorenz_curve(x, label):\n",
    "    x_sorted = sorted(x)\n",
    "    x_sorted_cumsum = np.cumsum(x_sorted)\n",
    "    x_sorted_cumsum_norm = x_sorted_cumsum / x_sorted_cumsum[-1]\n",
    "    x_equal = len(x)*[1]\n",
    "    x_equal_cumsum = np.cumsum(x_equal)\n",
    "    x_equal_cumsum_norm = x_equal_cumsum / x_equal_cumsum[-1]\n",
    "    x_axis_ticks = np.linspace(1/len(x),1,len(x))\n",
    "    data = pd.DataFrame({\"n\": x_axis_ticks , \"x\":x_sorted_cumsum_norm, \"x_equal\":x_equal_cumsum_norm})\n",
    "    if (int((pd.__version__).split('.')[0]) < 2):\n",
    "        data = data.append({\"n\":0,\"x\":0,\"x_equal\":0}, ignore_index=True)\n",
    "    else:  # DataFrame append() was removed in Panda >=2.0\n",
    "        data = pd.concat([data, pd.DataFrame([{\"n\":0,\"x\":0,\"x_equal\":0}])], ignore_index=True)\n",
    "    \n",
    "    plotnine.options.figure_size = (2, 2)\n",
    "    p = (ggplot(data, aes(x='n', y = 'x')) +\n",
    "            geom_ribbon(aes(ymin = 'x', ymax = 'x_equal'), fill = \"gray\") + \n",
    "            geom_line(aes(y = 'x_equal')) + \n",
    "            geom_area(aes(y = 'x'),fill=\"pink\", color=\"black\") +\n",
    "            geom_point(aes(y= 'x'),size=3) +\n",
    "            xlab(\"fraction of population\") + \n",
    "            ylab(\"cumulative share of wealth\")+\n",
    "            ggtitle(\"{0}: Gini = {1}\".format(label, round(gini(x),2))) +\n",
    "            theme(legend_position=\"none\",axis_title=element_text(size=8),title=element_text(size=8), axis_text=element_text(size=8)))\n",
    "    p.save(filename=\"{0}.png\".format(label),dpi=150)\n",
    "    return p\n",
    "\n",
    "def show_lorenz_plots(plots):\n",
    "    matplotlib.rcParams['figure.dpi']= 150\n",
    "    f, axarr = plt.subplots(1,len(plots),figsize=(20,6))\n",
    "    pidx = 0\n",
    "    for plot in plots:\n",
    "        img = matplotlib.image.imread('{}.png'.format(plot))\n",
    "        imgplot = axarr[pidx].imshow(img)\n",
    "        axarr[pidx].axis('off')\n",
    "        pidx+=1\n",
    "        os.remove('{}.png'.format(plot))\n"
   ]
  },
  {
   "cell_type": "markdown",
   "metadata": {},
   "source": [
    "### The Lorenz Curve\n",
    "\n",
    "The Lorenz is one of the ways in which the inequality in the distribution of a quantity can be visualized. It can be also be used to calculate the Gini coefficient. If we consider the case of the distribution of income or wealth in a population, each point in the curve represents the proportion of overall income or wealth (Y-axis) that is allocated to the bottom N percent of the population (X-axis). Below we consider a few example distributions with their corresponding Lorenz curves and Gini coefficients. The Gini coefficient can be calculated geometrically as the area between the actual lorenz curve and the Lorenz curve of the uniform distribution (i.e. 45&deg; line). i.e. in the figures shown below, \n",
    "\n",
    "$$Gini = \\frac{Area(Gray)}{Area(Gray) + Area(Pink)}$$"
   ]
  },
  {
   "cell_type": "code",
   "execution_count": null,
   "metadata": {},
   "outputs": [],
   "source": [
    "lorenz_curve([2,2,2,2,2],\"A\")\n",
    "lorenz_curve([1,2,2,2,3],\"B\")\n",
    "lorenz_curve([0,1,2,3,4],\"C\")\n",
    "lorenz_curve([0,0,0,0,4],\"D\")\n",
    "show_lorenz_plots([\"A\",\"B\",\"C\",\"D\"])\n"
   ]
  },
  {
   "cell_type": "markdown",
   "metadata": {},
   "source": [
    "<div class=\"alert-info\">\n",
    "    \n",
    "#### Short Answer 1\n",
    "\n",
    "Play around with the Lorenz curve visualization to see how different curves correspond to different Gini coefficients by changing the distribution below. Find a distribution (of any population size) that has a Gini coefficient between 0.5 and 0.55. Make the plot in the following cell.\n",
    "    \n",
    "</div>"
   ]
  },
  {
   "cell_type": "code",
   "execution_count": null,
   "metadata": {},
   "outputs": [],
   "source": [
    "lorenz_curve([CHANGEME],\"E\")"
   ]
  },
  {
   "cell_type": "markdown",
   "metadata": {},
   "source": [
    "<div class=\"alert-info\">\n",
    "    \n",
    "Short Answer 1.1\n",
    "\n",
    "Gini index is widely used to measure the economic equality in countries. The gini index in the US is 0.415 in 2016, for example. Here let's consider a simplified version of gini index as a measure of economic inequality. In a very small country named M with 5 people, their monthly income are 2400,2400,5000,20000,100000, what is the gini index of this country? Use the function you leaned above.\n",
    "    \n",
    "</div>"
   ]
  },
  {
   "cell_type": "code",
   "execution_count": null,
   "metadata": {},
   "outputs": [],
   "source": [
    "lorenz_curve([CHANGEME],\"E\")"
   ]
  },
  {
   "cell_type": "markdown",
   "metadata": {},
   "source": [
    "<div class=\"alert-info\">\n",
    "\n",
    "Short Answer 1.2\n",
    "\n",
    "Reducing inequality is a core task of each government, and tax is one of the common ways to reduce inequality. Consider you are the governer of country M, there are two options for you:\n",
    "1. Only tax the richest person at a high rate (e.g. 70%)\n",
    "2. Taxing all the individuals at a same, but lower rate (e.g. 30%)\n",
    "\n",
    "Plot the gini index under the two options, and answer the following questions:\n",
    "1. What are the gini index for each option? Which one seems to be more effective?\n",
    "    \n",
    "    answer:\n",
    "        \n",
    "2. Can you think about a taxing policy can could minimize the gini index of M? (3-5 sentences)\n",
    "    \n",
    "    answer:\n",
    "    \n",
    "    \n",
    "</div>"
   ]
  },
  {
   "cell_type": "code",
   "execution_count": null,
   "metadata": {},
   "outputs": [
    {
     "ename": "IndexError",
     "evalue": "index -1 is out of bounds for axis 0 with size 0",
     "output_type": "error",
     "traceback": [
      "\u001b[0;31m---------------------------------------------------------------------------\u001b[0m",
      "\u001b[0;31mIndexError\u001b[0m                                Traceback (most recent call last)",
      "Cell \u001b[0;32mIn[8], line 1\u001b[0m\n\u001b[0;32m----> 1\u001b[0m \u001b[43mlorenz_curve\u001b[49m\u001b[43m(\u001b[49m\u001b[43m[\u001b[49m\u001b[43m]\u001b[49m\u001b[43m,\u001b[49m\u001b[38;5;124;43m\"\u001b[39;49m\u001b[38;5;124;43moption 1\u001b[39;49m\u001b[38;5;124;43m\"\u001b[39;49m\u001b[43m)\u001b[49m\n\u001b[1;32m      2\u001b[0m lorenz_curve([],\u001b[38;5;124m\"\u001b[39m\u001b[38;5;124moption 2\u001b[39m\u001b[38;5;124m\"\u001b[39m)\n\u001b[1;32m      3\u001b[0m show_lorenz_plots([\u001b[38;5;124m\"\u001b[39m\u001b[38;5;124moption 1\u001b[39m\u001b[38;5;124m\"\u001b[39m, \u001b[38;5;124m\"\u001b[39m\u001b[38;5;124moption 2\u001b[39m\u001b[38;5;124m\"\u001b[39m])\n",
      "Cell \u001b[0;32mIn[4], line 52\u001b[0m, in \u001b[0;36mlorenz_curve\u001b[0;34m(x, label)\u001b[0m\n\u001b[1;32m     50\u001b[0m x_sorted \u001b[38;5;241m=\u001b[39m \u001b[38;5;28msorted\u001b[39m(x)\n\u001b[1;32m     51\u001b[0m x_sorted_cumsum \u001b[38;5;241m=\u001b[39m np\u001b[38;5;241m.\u001b[39mcumsum(x_sorted)\n\u001b[0;32m---> 52\u001b[0m x_sorted_cumsum_norm \u001b[38;5;241m=\u001b[39m x_sorted_cumsum \u001b[38;5;241m/\u001b[39m \u001b[43mx_sorted_cumsum\u001b[49m\u001b[43m[\u001b[49m\u001b[38;5;241;43m-\u001b[39;49m\u001b[38;5;241;43m1\u001b[39;49m\u001b[43m]\u001b[49m\n\u001b[1;32m     53\u001b[0m x_equal \u001b[38;5;241m=\u001b[39m \u001b[38;5;28mlen\u001b[39m(x)\u001b[38;5;241m*\u001b[39m[\u001b[38;5;241m1\u001b[39m]\n\u001b[1;32m     54\u001b[0m x_equal_cumsum \u001b[38;5;241m=\u001b[39m np\u001b[38;5;241m.\u001b[39mcumsum(x_equal)\n",
      "\u001b[0;31mIndexError\u001b[0m: index -1 is out of bounds for axis 0 with size 0"
     ]
    }
   ],
   "source": [
    "lorenz_curve([CHANGEME],\"option 1\")\n",
    "lorenz_curve([CHANGEME],\"option 2\")\n",
    "show_lorenz_plots([\"option 1\", \"option 2\"])"
   ]
  },
  {
   "cell_type": "markdown",
   "metadata": {},
   "source": [
    "The four histograms below show  the same examples of distributions with their Gini coefficients."
   ]
  },
  {
   "cell_type": "code",
   "execution_count": null,
   "metadata": {},
   "outputs": [],
   "source": [
    "plt.figure(figsize=(12,3))\n",
    "plt.subplot(1,4,1)\n",
    "gini_hist([2,2,2,2,2], \"A\")\n",
    "plt.subplot(1,4,2)\n",
    "gini_hist([1,2,2,2,3], \"B\")\n",
    "plt.subplot(1,4,3)\n",
    "gini_hist([0,1,2,3,4], \"C\")\n",
    "plt.subplot(1,4,4)\n",
    "gini_hist([4] + [0]*4, \"D\")\n",
    "plt.tight_layout()"
   ]
  },
  {
   "cell_type": "markdown",
   "metadata": {},
   "source": [
    "<div class=\"alert-info\">\n",
    "\n",
    "#### Short Answer 2\n",
    "The Gini coefficient measures inequality. \n",
    "1. Which of the four above is the most equal distribution of wealth, and why? \n",
    "    \n",
    "    answer:\n",
    "    \n",
    "2. Does the Gini coefficient confirm your reasoning?\n",
    "    \n",
    "    answer:\n",
    "    \n",
    "\n",
    "Consider the plot B above. It shows 5 people. Three of the people have 2 units of wealth. If we take all 2 units from one of the people with 2 units of wealth, and give them to another person with 2 units of wealth \n",
    "\n",
    "3. which of the above plots would we end up with? \n",
    "    \n",
    "    answer:\n",
    "    \n",
    "4. Would you expect that process to make the wealth distribution more equal or more unequal?\n",
    "    \n",
    "    answer:\n",
    "    \n",
    "5. Does the change in Gini coefficient confirm your intuition?\n",
    "    \n",
    "    answer:\n",
    "    \n",
    "\n",
    "    \n",
    "</div>"
   ]
  },
  {
   "cell_type": "markdown",
   "metadata": {},
   "source": [
    "## Section 4: Experiment\n",
    "We will now reproduce some of the figures from the Salganik, Dodds, and Watts experiment [SDW2006]. The main research questions were 1. whether social influence had an effect on the inequality of song success as measured by number of downloads, and 2. whether social influence had an effect on the unpredictability of a song's success, as measured by number of downloads."
   ]
  },
  {
   "cell_type": "markdown",
   "metadata": {},
   "source": [
    "### 4.1 Descriptive Statistics"
   ]
  },
  {
   "cell_type": "code",
   "execution_count": null,
   "metadata": {
    "code_folding": [
     0
    ]
   },
   "outputs": [],
   "source": [
    "# Helper functions\n",
    "\n",
    "# Count downloads for each song\n",
    "def count_song_stats(df_downloads):\n",
    "    # Create list of song_id values present in input\n",
    "    song_ids = sorted(set(df_downloads[\"song_id\"]))\n",
    "    # Create DataFrame for songs\n",
    "    df_songs = pd.DataFrame({\"song_id\":song_ids}) \\\n",
    "        .set_index(\"song_id\")\n",
    "    df_songs[\"download_count\"] = [\n",
    "        df_downloads[df_downloads[\"song_id\"] == cur_song][\"download_count\"].sum()\n",
    "        for cur_song in df_songs.index]\n",
    "    # Calculate mean over all worlds\n",
    "    df_songs[\"mean_rating\"] = np.zeros(len(df_songs.index))\n",
    "    df_songs[\"rating_count\"] = np.zeros(len(df_songs.index))\n",
    "    for cur_song in df_songs.index:\n",
    "        df = df_downloads[df_downloads[\"song_id\"] == cur_song]\n",
    "        df = df[~np.isnan(df[\"mean_rating\"])]\n",
    "        total_rating = float(np.dot(df[\"mean_rating\"], df[\"rating_count\"]))\n",
    "        total_count = float(df[\"rating_count\"].sum())\n",
    "        try:\n",
    "            df_songs[\"rating_count\"] = total_count\n",
    "            mean_rating = total_rating / total_count\n",
    "            df_songs.loc[cur_song, \"mean_rating\"] = mean_rating\n",
    "        except ZeroDivisionError:\n",
    "            df_songs.loc[cur_song, \"mean_rating\"] = np.NaN\n",
    "    return df_songs\n",
    "\n",
    "# Count downloads for each world\n",
    "def count_world_stats(df_downloads):\n",
    "    # Create list of world_id values present in input\n",
    "    world_ids = sorted(set(df_downloads[\"world_id\"]))\n",
    "    # Create DataFrame for worlds\n",
    "    df_worlds = pd.DataFrame({\"world_id\":world_ids}) \\\n",
    "        .set_index(\"world_id\")\n",
    "    # Count downloads for each world\n",
    "    df_worlds[\"download_count\"] = [\n",
    "        df_downloads[df_downloads[\"world_id\"] == cur_world][\"download_count\"].sum()\n",
    "        for cur_world in df_worlds.index\n",
    "    ]\n",
    "    # Calculate mean over all songs\n",
    "    df_worlds[\"rating_count\"] = np.zeros(len(df_worlds.index))\n",
    "    df_worlds[\"mean_rating\"] = np.zeros(len(df_worlds.index))\n",
    "    for cur_world in df_worlds.index:\n",
    "        df = df_downloads[df_downloads[\"world_id\"] == cur_world]\n",
    "        df = df[~np.isnan(df[\"mean_rating\"])]\n",
    "        total_rating = float(np.dot(df[\"mean_rating\"], df[\"rating_count\"]))\n",
    "        total_count = float(df[\"rating_count\"].sum())\n",
    "        df_worlds[\"rating_count\"] = total_count\n",
    "        try:\n",
    "            mean_rating = total_rating / total_count\n",
    "            df_worlds.loc[cur_world, \"mean_rating\"] = mean_rating\n",
    "        except ZeroDivisionError:\n",
    "            df_worlds.loc[cur_world, \"mean_rating\"] = np.NaN            \n",
    "    return df_worlds\n"
   ]
  },
  {
   "cell_type": "code",
   "execution_count": null,
   "metadata": {},
   "outputs": [],
   "source": [
    "# Before starting the analysis, we need to choose which quantity to analyze.\n",
    "analysis_column = \"download_count\""
   ]
  },
  {
   "cell_type": "markdown",
   "metadata": {},
   "source": [
    "After calculating statistics about the data set, we can use a histogram to visualize how frequent different values are. The x-axis represents the download count (or other analysis variable selected above). The height of each bar represents how many items have a download count in the corresponding range."
   ]
  },
  {
   "cell_type": "code",
   "execution_count": null,
   "metadata": {},
   "outputs": [],
   "source": [
    "# Plot histogram of download counts\n",
    "df_songs = count_song_stats(df_downloads)\n",
    "df_worlds = count_world_stats(df_downloads)\n",
    "h = plt.hist([ x for x in df_songs[analysis_column] if not np.isnan(x)], bins=20)\n",
    "plt.title(\"{} observations\".format(sum(h[0])))\n",
    "plt.xlabel(analysis_column)\n",
    "plt.ylabel(\"Frequency\")"
   ]
  },
  {
   "cell_type": "markdown",
   "metadata": {},
   "source": [
    "<div class=\"alert-info\">\n",
    "\n",
    "#### Short Answer 3\n",
    "1. Write 2-4 sentences describing the shape of the above download distribution.\n",
    "    \n",
    "    answer:\n",
    "    \n",
    "2. Are some download counts more common than others?\n",
    "    \n",
    "    answer:\n",
    "    \n",
    "3. Is the most popular song many times more popular (in terms of downloads) than typical songs or about the same?\n",
    "    \n",
    "    answer:\n",
    "    \n",
    "    \n",
    "</div>    "
   ]
  },
  {
   "cell_type": "markdown",
   "metadata": {},
   "source": [
    "### 4.2 Gini Coefficient\n",
    "Now we can find the Gini coefficient in each world to compare the inequality in social influence worlds (1-8) to the non-influence world (9). The vertical black bars represent the uncertainty in the calculated value."
   ]
  },
  {
   "cell_type": "code",
   "execution_count": null,
   "metadata": {},
   "outputs": [],
   "source": [
    "# Calculate and plot the gini coefficient for each world\n",
    "df_world_gini = get_world_gini(df_world_song)\n",
    "plt.figure(figsize=(4, 4))\n",
    "plt.grid()\n",
    "plt.bar(df_world_gini.index, df_world_gini[\"gini\"], yerr=df_world_gini[\"gini_se\"])\n",
    "plt.xticks(df_world_gini.index, df_world_gini.index)\n",
    "plt.text(9.3, -0.032, '(non-influence)')\n",
    "plt.xlabel(\"World\")\n",
    "plt.ylabel(\"Gini coefficient\")"
   ]
  },
  {
   "cell_type": "markdown",
   "metadata": {},
   "source": [
    "<div class=\"alert-info\">\n",
    "\n",
    "#### Short Answer 4\n",
    "Write a few sentences interpreting the figure above, considering the following questions. \n",
    "1. How does the Gini coefficient of the independent world compare to the social influence worlds? \n",
    "    \n",
    "    answer:\n",
    "    \n",
    "2. What does that difference mean in the context of the experiment?\n",
    "    \n",
    "    answer:\n",
    "    \n",
    "</div>    "
   ]
  },
  {
   "cell_type": "markdown",
   "metadata": {},
   "source": [
    "### 4.3 Market Share\n",
    "The market share represents the popularity of an artifact. It can be calculated from several possible quantities, including ratings and downloads.\n",
    "\n",
    "The helper functions below calculate the market share as well as the rank of an artifact's market share compared to all others."
   ]
  },
  {
   "cell_type": "code",
   "execution_count": null,
   "metadata": {
    "code_folding": [
     0
    ]
   },
   "outputs": [],
   "source": [
    "# Helper functions\n",
    "\n",
    "# Calculate market shares\n",
    "def get_market_share(df_world_song):\n",
    "    '''Return a DataFrame containing song_id, world_id, and market_share columns.'''\n",
    "    # Create a copy of the input to return\n",
    "    df = df_world_song.copy()\n",
    "    # Count the total downloads for each world\n",
    "    df_worlds = count_world_stats(df)\n",
    "    world_ids = df_worlds.index\n",
    "    # Calculate the market share\n",
    "    if analysis_column == 'mean_rating':\n",
    "        df[\"market_share\"] = [\n",
    "            float(df.loc[i, \"mean_rating\"] * df.loc[i, \"rating_count\"]) \\\n",
    "                / float(df_worlds.loc[df.loc[i, \"world_id\"]][\"rating_count\"])\n",
    "                / float(df_worlds.loc[df.loc[i, \"world_id\"]][\"mean_rating\"])\n",
    "            for i in df.index]\n",
    "    elif analysis_column == 'download_count':\n",
    "        df[\"market_share\"] = [\n",
    "            float(df.loc[i, \"download_count\"]) \\\n",
    "                / float(df_worlds.loc[df.loc[i, \"world_id\"], \"download_count\"])\n",
    "            for i in df.index]\n",
    "    return df\n",
    "\n",
    "# Calculate market share and rank for each song/world\n",
    "def get_market_rank(df_world_song):\n",
    "    # Get market share\n",
    "    df_world_song[\"market_share\"] = get_market_share(df_world_song)[\"market_share\"]\n",
    "    # Copy market share, and convert to rank one world at a time\n",
    "    ranks = []\n",
    "    for cur_world in sorted(set(df_world_song[\"world_id\"])):\n",
    "        df = df_world_song[df_world_song[\"world_id\"] == cur_world].copy()\n",
    "        df[\"market_rank\"] = df[\"market_share\"].rank(ascending=False)\n",
    "        # Store results for this world in an array\n",
    "        ranks.append(df)\n",
    "    # Concatenate results for all worlds\n",
    "    df_world_song['market_rank'] = pd.concat(ranks)['market_rank']\n",
    "    # Remove nan entries\n",
    "    nan_songs = list(df_world_song[np.isnan(df_world_song[\"market_share\"])][\"song_id\"])\n",
    "    df = df_world_song\n",
    "    for cur_song in nan_songs:\n",
    "        df = df[df[\"song_id\"] != cur_song]\n",
    "    return df"
   ]
  },
  {
   "cell_type": "markdown",
   "metadata": {},
   "source": [
    "We plot the market shares (and ranks) of artifacts in social influence worlds as a function of their market shares (and ranks) in the independent world."
   ]
  },
  {
   "cell_type": "code",
   "execution_count": null,
   "metadata": {},
   "outputs": [],
   "source": [
    "# Get market share and rank\n",
    "df_market = get_market_rank(df_world_song)\n",
    "\n",
    "# Create list of dependent worlds\n",
    "world_ids = sorted(set(df_world_song[\"world_id\"]))\n",
    "dependent_worlds = [x for x in world_ids if x != data.independent_world]\n",
    "\n",
    "# Create a figure\n",
    "plt.figure(figsize(8,4))\n",
    "# Plot social influence market share vs independent market share\n",
    "# Create subplots and use first\n",
    "plt.subplot(1,2,1)\n",
    "for cur_world in dependent_worlds:\n",
    "    plt.plot(\n",
    "        df_market[df_market[\"world_id\"] == data.independent_world]['market_share'],\n",
    "        df_market[df_market[\"world_id\"] == cur_world]['market_share'], '.b')\n",
    "plt.xlabel(\"Market share (Indep.)\")\n",
    "plt.ylabel(\"Market share (Social)\")\n",
    "# Plot social rank vs indpendent rank in second subplot\n",
    "plt.subplot(1,2,2)\n",
    "for cur_world in dependent_worlds:\n",
    "    plt.plot(\n",
    "        df_market[df_market[\"world_id\"] == data.independent_world]['market_rank'],\n",
    "        df_market[df_market[\"world_id\"] == cur_world]['market_rank'], '.b')\n",
    "plt.xlabel(\"Market rank (Indep.)\")\n",
    "plt.ylabel(\"Market rank (Social)\")\n",
    "plt.tight_layout()"
   ]
  },
  {
   "cell_type": "markdown",
   "metadata": {},
   "source": [
    "<div class=\"alert-info\">\n",
    "\n",
    "#### Short Answer 5\n",
    "We can consider the market share in the indpendent world a measure of song quality. Write a few sentences answering the following questions.\n",
    "1. Why might the market share of a song be correlated between different worlds?\n",
    "    \n",
    "    answer:\n",
    "    \n",
    "2. Why might a song have different market shares in different worlds?\n",
    "    \n",
    "    answer:\n",
    "    \n",
    "3. How would you expect the plots to look if there was no social influence?\n",
    "    \n",
    "    answer:\n",
    "    \n",
    "4. How would you expect the plots to look if there was strong social influence?\n",
    "    \n",
    "    answer:\n",
    "    \n",
    "5. In terms of quality, which types of songs have the least variance in their market share?\n",
    "    \n",
    "    answer:\n",
    "    \n",
    "\n",
    "    \n",
    "</div>"
   ]
  },
  {
   "cell_type": "markdown",
   "metadata": {},
   "source": [
    "### 4.4 Unpredictability\n",
    "In this section, we investigate whether the success of cultural artifacts is more or less predictable when there is social influence.\n",
    "We can compare a given artifact's popularity in different social influence worlds to determine the unpredictability.\n",
    "For the independent case, we have to randomly divide the independent world into multiple worlds and compare between those.\n",
    "\n",
    "The helper functions below calculate the unpredictability of artifacts in both social influence and indpendent worlds."
   ]
  },
  {
   "cell_type": "code",
   "execution_count": null,
   "metadata": {
    "code_folding": [
     0
    ]
   },
   "outputs": [],
   "source": [
    "# Helper functions\n",
    "\n",
    "def find_unpredictability(df_downloads):\n",
    "    '''Return a DataFrame indexed by song_id with an `unpredictability` column.'''\n",
    "    # Create the DataFrame and index from the provided download data\n",
    "    song_ids = sorted(set(df_downloads[\"song_id\"]))\n",
    "    world_ids = sorted(set(df_downloads[\"world_id\"]))\n",
    "    df = pd.DataFrame({\"song_id\": song_ids}) \\\n",
    "        .set_index(\"song_id\")\n",
    "    # Get market share of each song in each world\n",
    "    df_market = get_market_share(df_downloads)\n",
    "    # Calculate and return the unpredictability based on equation in SDW2006\n",
    "    df[\"unpredictability\"] = [\n",
    "        sum([\n",
    "            sum([\n",
    "                abs(\n",
    "                    df_market[\n",
    "                        (df_market[\"song_id\"] == cur_song)\n",
    "                        & (df_market[\"world_id\"] == world_j)\n",
    "                    ][\"market_share\"].sum()\n",
    "                    - df_market[\n",
    "                        (df_market[\"song_id\"] == cur_song)\n",
    "                        & (df_market[\"world_id\"] == world_k)\n",
    "                    ][\"market_share\"].sum()\n",
    "                ) / spspec.comb(len(world_ids), 2)\n",
    "                for k, world_k in enumerate(world_ids[j+1:])])\n",
    "            for j, world_j in enumerate(world_ids)])\n",
    "        for cur_song in df.index]\n",
    "    return df\n",
    "\n",
    "def compare_unpredictability(df_world_song):\n",
    "    # Calculate unpredictability in social influence worlds\n",
    "    df_songs = count_song_stats(df_world_song)\n",
    "    df_social = df_world_song[df_world_song[\"world_id\"] != data.independent_world]\n",
    "    df_songs[\"unpredictability\"] = find_unpredictability(df_social)[\"unpredictability\"]\n",
    "    # Calculate unpredictability in independent world\n",
    "    unpredictability = []\n",
    "    num_iter = 50\n",
    "    for i in range(num_iter):\n",
    "        df_indep_dl = data.sample_independent()\n",
    "        u_i = find_unpredictability(df_indep_dl)[\"unpredictability\"]\n",
    "        unpredictability.append(u_i) \n",
    "    # Average results\n",
    "    # Elements are pandas Series objects, which can be added to each other\n",
    "    u = np.sum(unpredictability, axis=0) / float(num_iter)\n",
    "    # Add to the song DataFrame\n",
    "    df_songs[\"unpredictability_indep\"] = u\n",
    "    return df_songs\n",
    "\n",
    "def calculate_toy_unpredictability(x):\n",
    "    n_experiments = x.shape[0]\n",
    "    n_items = x.shape[1]\n",
    "    abs_diff = 0\n",
    "    for i in range(0,n_items):\n",
    "        for j in range(0,n_experiments):\n",
    "            for k in range(j, n_experiments):\n",
    "                abs_diff += abs(x[j,i] - x[k,i])\n",
    "    unpred = abs_diff/(n_items*int(factorial(n_experiments)/(factorial(n_experiments-2)*2)))\n",
    "    return round(unpred,3) \n"
   ]
  },
  {
   "cell_type": "markdown",
   "metadata": {},
   "source": [
    "First, let's gain some intuition about what we mean by unpredictability of a measurement. Imagine a version of the music lab experiment where we have the ability to erase the memory of the participants and have them repeat the experiment multiple times. In this setting, the order in which the participants come in and engage with the experiment can change from run to run. This, and other reasons, mean that the final download counts for a song across each iteration can change. This variation is the what we call the **unpredictability**. Let's consider a toy example with three runs of the experiment across a small number of songs."
   ]
  },
  {
   "cell_type": "code",
   "execution_count": null,
   "metadata": {},
   "outputs": [],
   "source": [
    "# each row represents the distribution of market share across songs for a single run (should sum up to 1).  Each row must have the same number of values (songs)\n",
    "U1 = calculate_toy_unpredictability(np.array([\n",
    "        [0.4,0.3,0.15,0.1,0.05],\n",
    "        [0.45,0.4,0.05,0.05,0.05],\n",
    "        [0.3,0.2,0.2,0.2,0.1]\n",
    "    ]))\n",
    "\n",
    "U2 = calculate_toy_unpredictability(np.array([\n",
    "        [0.49, 0.03, 0.16, 0.15, 0.16],\n",
    "        [0.3 , 0.04, 0.01, 0.38, 0.27],\n",
    "        [0.14, 0.04, 0.33, 0.05, 0.44]\n",
    "]))\n",
    "\n",
    "U3 = calculate_toy_unpredictability(np.array([\n",
    "        [0.2,0.2,0.2,0.2,0.2],\n",
    "        [0.22,0.18,0.23,0.18,0.19],\n",
    "        [0.15,0.22,0.23,0.2,0.2]\n",
    "]))\n",
    "\n",
    "plt.figure(figsize=(6,4))\n",
    "plt.bar([1, 2, 3], [U1, U2, U3])\n",
    "plt.xticks([1,2, 3], [\"Scenario 1\", \"Scenario 2\", \"Scenario 3\"])\n",
    "plt.ylim([0, max([U1, U2, U3])*1.5])\n",
    "#plt.xlabel(\"Scenario\")\n",
    "plt.ylabel(\"Unpredictability\")\n"
   ]
  },
  {
   "cell_type": "markdown",
   "metadata": {},
   "source": [
    "#### Short Answer 6\n",
    "\n",
    "Play around with distributions in the cell below. Give an example of a series of distributions of market share that would indicate even less predictability than the ones shown above. "
   ]
  },
  {
   "cell_type": "code",
   "execution_count": null,
   "metadata": {},
   "outputs": [
    {
     "name": "stdout",
     "output_type": "stream",
     "text": [
      "0.0\n"
     ]
    }
   ],
   "source": [
    "U4 = calculate_toy_unpredictability(np.array([\n",
    "        [0.4,0.3,0.1,0.1,0.1],\n",
    "        [0.4,0.3,0.1,0.1,0.1],\n",
    "        [0.4,0.3,0.1,0.1,0.1]\n",
    "]))\n",
    "print(U4)"
   ]
  },
  {
   "cell_type": "markdown",
   "metadata": {},
   "source": [
    "The plot below visualizes the unpredictability in social influence worlds vs independent worlds."
   ]
  },
  {
   "cell_type": "code",
   "execution_count": null,
   "metadata": {},
   "outputs": [],
   "source": [
    "# Plot the unpredictability for social and independent worlds\n",
    "df_songs = compare_unpredictability(df_world_song)\n",
    "u_social = df_songs[\"unpredictability\"].sum() / data.num_songs\n",
    "u_indep = df_songs[\"unpredictability_indep\"].sum() / data.num_songs\n",
    "plt.figure(figsize=(6,4))\n",
    "plt.bar([1, 2], [u_social, u_indep])\n",
    "plt.xticks([1,2], [\"Social\", \"Independent\"])\n",
    "plt.ylim([0, max([u_social, u_indep])*2])\n",
    "plt.xlabel(\"World\")\n",
    "plt.ylabel(\"Unpredictability\")"
   ]
  },
  {
   "cell_type": "markdown",
   "metadata": {
    "tags": []
   },
   "source": [
    "<div class=\"alert-info\">\n",
    "\n",
    "#### Short Answer 7\n",
    "Write a few sentences interpreting the above plot, considering the following questions.\n",
    "1. How could social influence have an effect on the predictability of an artifact's success?\n",
    "    \n",
    "    answer:\n",
    "    \n",
    "2. Would you expect social influence to make success more or less predictable? Why?\n",
    "    \n",
    "    answer:\n",
    "    \n",
    "    \n",
    "</div>"
   ]
  },
  {
   "cell_type": "markdown",
   "metadata": {},
   "source": [
    "<div class=\"alert-warning\">\n",
    "\n",
    "## Section 5: Reflection\n",
    "\n",
    "#### Reflection Question 1\n",
    "Consider the distribution plotted in the following cell. By comparing it to the plots in [Section 3](#Section-3%3A-Gini-Coefficient) and their Gini coefficients, what range would you expect the Gini coefficient for this plot to fall into, and why?\n",
    "\n",
    "Answer:    \n",
    "    \n",
    "</div>"
   ]
  },
  {
   "cell_type": "code",
   "execution_count": null,
   "metadata": {},
   "outputs": [],
   "source": [
    "plt.figure(figsize=(3,3))\n",
    "x = [0,0,1,2,4]\n",
    "plt.hist(x, rwidth=0.8, density=True, bins=np.arange(-0.5,5.5,1))\n",
    "plt.ylim([0,1.2]); plt.xlim([-0.5,4.5]); plt.xticks(range(0,5))\n",
    "xlabel(\"Wealth\"); ylabel(\"Frequency\")\n",
    "plt.tight_layout()"
   ]
  },
  {
   "cell_type": "markdown",
   "metadata": {},
   "source": [
    "<div class=\"alert-warning\">\n",
    "\n",
    "#### Reflection Question 2\n",
    "Assuming the results of the (SDW2006) are true in general, and social influence results in higher unpredicatbility and inequality, write a paragraph addressing the following questions.\n",
    "1. If you are designing a site to stream music and you want to make sure the popularity of a song accuratley reflects its quality, would you include information about download counts, ratings, etc. when the song appears? Why or why not?\n",
    "    \n",
    "    answer:\n",
    "    \n",
    "2. Would you include that information if you wanted the site to have \"rock stars\" who are much more popular than their peers? Why or why not?\n",
    "    \n",
    "    answer:\n",
    "    \n",
    "3. If you wanted users to be able to quickly find good music, would you include information about download counts and ratings? Why or why not?\n",
    "    \n",
    "    answer:\n",
    "    \n",
    "\n",
    "</div>"
   ]
  },
  {
   "cell_type": "markdown",
   "metadata": {},
   "source": [
    "<div class=\"alert-warning\">\n",
    "\n",
    "#### Reflection Question 3\n",
    "\n",
    "In this week's lecture, and now in this lab, we've seen how social influence can be leveraged in systems (particularly online in settings like search engines, recommendation etc.). Reflect on the positive and negative implications of amplifying social influence in this manner. Write 1-2 paragraphs.\n",
    "    \n",
    "answer:\n",
    "    \n",
    "</div>"
   ]
  },
  {
   "cell_type": "markdown",
   "metadata": {},
   "source": [
    "## References\n",
    "\n",
    "(SDW2006) Salganik, M. J., Dodds, P. S., & Watts, D. J. (2006). Experimental study of inequality and unpredictability in an artificial cultural market. _Science_, 311(5762), 854-856."
   ]
  },
  {
   "cell_type": "markdown",
   "metadata": {},
   "source": []
  }
 ],
 "metadata": {
  "kernelspec": {
   "display_name": "Python 3 (ipykernel)",
   "language": "python",
   "name": "python3"
  },
  "language_info": {
   "codemirror_mode": {
    "name": "ipython",
    "version": 3
   },
   "file_extension": ".py",
   "mimetype": "text/x-python",
   "name": "python",
   "nbconvert_exporter": "python",
   "pygments_lexer": "ipython3",
   "version": "3.10.8"
  }
 },
 "nbformat": 4,
 "nbformat_minor": 4
}
