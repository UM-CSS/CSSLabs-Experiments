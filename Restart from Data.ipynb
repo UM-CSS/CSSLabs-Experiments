{
 "cells": [
  {
   "cell_type": "code",
   "execution_count": null,
   "metadata": {
    "scrolled": true
   },
   "outputs": [],
   "source": [
    "# Initialization\n",
    "%pylab inline\n",
    "import random\n",
    "import matplotlib.pyplot as plt\n",
    "import numpy as np\n",
    "import pandas as pd\n",
    "import scipy as sp\n",
    "import scipy.misc as spmisc"
   ]
  },
  {
   "cell_type": "code",
   "execution_count": null,
   "metadata": {},
   "outputs": [],
   "source": [
    "data = 'data/cultural_market.csv'\n",
    "session = 'iddr7oao'\n",
    "# Read csv in oTree format\n",
    "df_raw = pd.read_csv(data)\n",
    "# Remove all but desired session\n",
    "df_raw = df_raw[df_raw['session.code'] == session]\n",
    "# Generate list of songs and worlds\n",
    "row_count = int(list(df_raw[\"player.rows\"])[0])\n",
    "col_count = int(list(df_raw[\"player.cols\"])[0])\n",
    "num_songs = row_count * col_count\n",
    "song_ids = range(num_songs)\n",
    "world_ids = sorted(set(df_raw[\"player.world\"]))\n",
    "\n",
    "for cur_song in song_ids:\n",
    "    print(cur_song)\n",
    "    print(\"      view_count:\");\n",
    "    for cur_world in world_ids:\n",
    "        df = df_raw[df_raw[\"player.world\"] == cur_world]\n",
    "        count = df[\"player.view_{}\".format(cur_song)].sum()\n",
    "        print(\"        - {}\".format(count))\n",
    "    print(\"      download_count:\");\n",
    "    for cur_world in world_ids:\n",
    "        df = df_raw[df_raw[\"player.world\"] == cur_world]\n",
    "        count = df[\"player.view_{}\".format(cur_song)].sum()\n",
    "        print(\"        - {}\".format(count))\n",
    "    print(\"      rating_count:\");\n",
    "    for cur_world in world_ids:\n",
    "        df = df_raw[df_raw[\"player.world\"] == cur_world]\n",
    "        count = len(df[df[\"player.rating_{}\".format(cur_song)] > 0])\n",
    "        print(\"        - {}\".format(count))\n",
    "    print(\"      rating:\");\n",
    "    for cur_world in world_ids:\n",
    "        df = df_raw[df_raw[\"player.world\"] == cur_world]\n",
    "        col = \"player.rating_{}\".format(cur_song)\n",
    "        count = len(df[df[col] > 0])\n",
    "        total = df[df[col] > 0][col].sum()\n",
    "        try:\n",
    "            rating = total / count\n",
    "        except ZeroDivisionError:\n",
    "            rating = 2.5\n",
    "        print(\"        - {}\".format(rating))"
   ]
  },
  {
   "cell_type": "code",
   "execution_count": null,
   "metadata": {},
   "outputs": [],
   "source": [
    "len(df[df[col] > 0])"
   ]
  },
  {
   "cell_type": "code",
   "execution_count": null,
   "metadata": {},
   "outputs": [],
   "source": []
  }
 ],
 "metadata": {
  "kernelspec": {
   "display_name": "Python 3",
   "language": "python",
   "name": "python3"
  },
  "language_info": {
   "codemirror_mode": {
    "name": "ipython",
    "version": 3
   },
   "file_extension": ".py",
   "mimetype": "text/x-python",
   "name": "python",
   "nbconvert_exporter": "python",
   "pygments_lexer": "ipython3",
   "version": "3.6.8"
  }
 },
 "nbformat": 4,
 "nbformat_minor": 2
}
