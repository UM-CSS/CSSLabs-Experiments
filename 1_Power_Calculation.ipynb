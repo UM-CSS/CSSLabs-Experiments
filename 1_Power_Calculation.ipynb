{
 "cells": [
  {
   "cell_type": "markdown",
   "metadata": {},
   "source": [
    "## Import data\n",
    "We start by importing python libraries and configuring jupyter."
   ]
  },
  {
   "cell_type": "code",
   "execution_count": null,
   "metadata": {
    "scrolled": true
   },
   "outputs": [],
   "source": [
    "# Initialization\n",
    "%pylab inline\n",
    "import random\n",
    "import matplotlib.pyplot as plt\n",
    "import numpy as np\n",
    "import pandas as pd\n",
    "import scipy as sp\n",
    "import scipy.misc as spmisc\n",
    "from tqdm import tqdm"
   ]
  },
  {
   "cell_type": "markdown",
   "metadata": {},
   "source": [
    "Now we'll define helper functions to read data from either the original experiment or from oTree."
   ]
  },
  {
   "cell_type": "code",
   "execution_count": null,
   "metadata": {},
   "outputs": [],
   "source": [
    "# Convert SDW2006 data to a data frame with a single count column\n",
    "def sdw_to_world_song(df_raw):\n",
    "    col_world_id = []\n",
    "    col_song_id = []\n",
    "    col_count = []\n",
    "    song_ids = range(1,49)\n",
    "    world_ids = range(1,10)\n",
    "    # Get list of world ids present in df_raw\n",
    "    world_ids = sorted(set(df_raw[\"world_id\"]))\n",
    "    for cur_world in world_ids:\n",
    "        # Filter by world\n",
    "        df_world = df_raw[df_raw[\"world_id\"] == cur_world]\n",
    "        for cur_song in song_ids:\n",
    "            col_world_id.append(cur_world)\n",
    "            col_song_id.append(cur_song)\n",
    "            count = df_world[\"dl_{}\".format(cur_song)].sum()\n",
    "            col_count.append(count)\n",
    "    df_downloads = pd.DataFrame({\n",
    "        \"world_id\": col_world_id,\n",
    "        \"song_id\": col_song_id,\n",
    "        \"download_count\": col_count\n",
    "    })\n",
    "    return df_downloads\n",
    "\n",
    "# Load oTree data into a data frame with the following columns:\n",
    "#  - world_id\n",
    "#  - song_id\n",
    "#  - download_count\n",
    "#  - mean_rating\n",
    "def load_otree(data=\"data/cultural_market.csv\", session=None):\n",
    "    # Read csv in oTree format\n",
    "    df_raw = pd.read_csv(data)\n",
    "    # Remove all but desired session\n",
    "    df_raw = df_raw[df_raw['session.code'] == session]\n",
    "    # Generate list of songs and worlds\n",
    "    row_count = int(list(df_raw[\"player.rows\"])[0])\n",
    "    col_count = int(list(df_raw[\"player.cols\"])[0])\n",
    "    num_songs = row_count * col_count\n",
    "    song_ids = range(num_songs)\n",
    "    world_ids = sorted(set(df_raw[\"player.world\"]))\n",
    "    # Count totals for each world/song combination\n",
    "    col_world_id = []\n",
    "    col_song_id = []\n",
    "    col_download_count = []\n",
    "    col_mean_rating = []\n",
    "    for cur_world in world_ids:\n",
    "        df_world = df_raw[df_raw[\"player.world\"] == cur_world]\n",
    "        for cur_song in song_ids:\n",
    "            # Record song and world id\n",
    "            col_world_id.append(cur_world)\n",
    "            col_song_id.append(cur_song)\n",
    "            # Count the number of downloads\n",
    "            col_download_count.append(df_world[\"player.download_{}\".format(cur_song)].sum())\n",
    "            # Find the average rating\n",
    "            rating_label = \"player.rating_{}\".format(cur_song)\n",
    "            df_ratings = df_world[df_world[rating_label] > 0]\n",
    "            col_mean_rating.append(df_ratings[rating_label].mean())\n",
    "    df_downloads = pd.DataFrame({\n",
    "        \"world_id\": col_world_id,\n",
    "        \"song_id\": col_song_id,\n",
    "        \"download_count\": col_download_count,\n",
    "        \"mean_rating\": col_mean_rating\n",
    "    })\n",
    "    return df_downloads\n",
    "\n",
    "def load_sdw(path):\n",
    "    # Load data from all worlds in SDW experiment 1\n",
    "    downloads_file = \"{path}/musiclab_data/dynamics_downloads_download_w{world}_v{experiment}.txt\"\n",
    "    song_ids = range(1,49)\n",
    "    world_ids = range(1,10)\n",
    "    columns = ['user_id', 'world_id'] \\\n",
    "        + [\"dl_{i}\".format(i=i) for i in song_ids] \\\n",
    "        + ['timestamp']\n",
    "    df_raw = pd.concat([\n",
    "        pd.read_csv(\n",
    "            downloads_file.format(path=path, world=w, experiment=1),\n",
    "            comment=\"%\",\n",
    "            header=None,\n",
    "            names=columns\n",
    "        )\n",
    "        for w in world_ids])\n",
    "    return sdw_to_world_song(df_raw)"
   ]
  },
  {
   "cell_type": "markdown",
   "metadata": {},
   "source": [
    "### Read the data into a data frame\n",
    "The next line will read in the data from the original Salganik, Dodds, and Watts experiment. If you instead want to analyze data from oTree, remove the `#` from the beginning of the second line and enter the path to the csv file downloaded from oTree and the oTree session id of your experiment."
   ]
  },
  {
   "cell_type": "code",
   "execution_count": null,
   "metadata": {},
   "outputs": [],
   "source": [
    "df_downloads = load_sdw(\"external/CM\")\n",
    "#df_downloads = load_otree(data=\"data/cultural_market.csv\", session=\"iddr7oao\")\n",
    "df_downloads.head()"
   ]
  },
  {
   "cell_type": "code",
   "execution_count": null,
   "metadata": {},
   "outputs": [],
   "source": [
    "# Count downloads for each song\n",
    "def count_song_downloads(df_downloads):\n",
    "    # Create list of song_id values present in input\n",
    "    song_ids = sorted(set(df_downloads[\"song_id\"]))\n",
    "    # Create DataFrame for songs\n",
    "    df_songs = pd.DataFrame({\"song_id\":song_ids}) \\\n",
    "        .set_index(\"song_id\")\n",
    "    df_songs[\"total_counts\"] = [\n",
    "        df_downloads[df_downloads[\"song_id\"] == cur_song][\"download_count\"].sum()\n",
    "        for cur_song in df_songs.index]\n",
    "    return df_songs\n",
    "\n",
    "# Count downloads for each world\n",
    "def count_world_downloads(df_downloads):\n",
    "    # Create list of world_id values present in input\n",
    "    world_ids = sorted(set(df_downloads[\"world_id\"]))\n",
    "    # Create DataFrame for worlds\n",
    "    df_worlds = pd.DataFrame({\"world_id\":world_ids}) \\\n",
    "        .set_index(\"world_id\")\n",
    "    # Count downloads for each world\n",
    "    df_worlds[\"total_counts\"] = [\n",
    "        df_downloads[df_downloads[\"world_id\"] == cur_world][\"download_count\"].sum()\n",
    "        for cur_world in df_worlds.index\n",
    "    ]\n",
    "    return df_worlds"
   ]
  },
  {
   "cell_type": "code",
   "execution_count": null,
   "metadata": {},
   "outputs": [],
   "source": [
    "# Plot histogram of download counts\n",
    "df_songs = count_song_downloads(df_downloads)\n",
    "df_worlds = count_world_downloads(df_downloads)\n",
    "plt.hist(df_songs[\"total_counts\"], bins=20)\n",
    "plt.xlabel(\"Download count\")\n",
    "plt.ylabel(\"Count frequency\")"
   ]
  },
  {
   "cell_type": "markdown",
   "metadata": {},
   "source": [
    "### Gini coefficient"
   ]
  },
  {
   "cell_type": "code",
   "execution_count": null,
   "metadata": {},
   "outputs": [],
   "source": [
    "def gini(x):\n",
    "    '''Given a list of counts `x`, return the gini coefficient.'''\n",
    "    n = len(x)\n",
    "    gini_num = sum([sum([abs(x_i - x_j) for x_j in x]) for x_i in x])\n",
    "    gini_den = 2.0 * n * sum([x_i for x_i in x])\n",
    "    return gini_num / gini_den\n",
    "\n",
    "def gini_bootstrap(x, samples=1000):\n",
    "    '''Given a list of counts `x`, return gini estimate and (bootstrap) standard error.'''\n",
    "#    x_all = [xi for xi in x if not np.isnan(xi)]\n",
    "    x_all = list(x)\n",
    "    n = len(x_all)\n",
    "    num_estimates = []\n",
    "    den_estimates = []\n",
    "    for bootstrap_i in range(samples):\n",
    "        bootstrap = [x_all[random.randint(0, len(x_all) - 1)] for x in x_all]\n",
    "        gini_num = sum([sum([abs(x_i - x_j) for x_j in bootstrap]) for x_i in bootstrap])\n",
    "        gini_den = 2.0 * (n - 1) * sum([x_i for x_i in bootstrap])\n",
    "        num_estimates.append(gini_num)\n",
    "        den_estimates.append(gini_den)\n",
    "    num_mean_sq = sum([est**2 for est in num_estimates]) / len(num_estimates)\n",
    "    num_mean = sum(num_estimates) / len(num_estimates)\n",
    "    den_mean = sum(den_estimates) / len(den_estimates)\n",
    "    num_var = num_mean_sq - (num_mean)**2\n",
    "    gini = num_mean / den_mean\n",
    "    gini_se = math.sqrt(num_var) / den_mean\n",
    "    return gini, gini_se\n",
    "    "
   ]
  },
  {
   "cell_type": "code",
   "execution_count": null,
   "metadata": {},
   "outputs": [],
   "source": [
    "def get_world_gini_evolution(world_id=9, experiment=1, smooth=0, samples=1000, step=1):\n",
    "    '''Get the gini in one world over the course of the experiment.'''\n",
    "    # Load the download file\n",
    "    downloads_file = \"external/CM/musiclab_data/dynamics_downloads_download_w{world}_v{experiment}.txt\"\n",
    "    song_ids = range(1,49)\n",
    "    columns = ['user_id', 'world_id'] \\\n",
    "        + [\"dl_{i}\".format(i=i) for i in song_ids] \\\n",
    "        + ['timestamp']\n",
    "    df_raw = pd.read_csv(\n",
    "        downloads_file.format(world=world_id, experiment=experiment),\n",
    "        comment=\"%\",\n",
    "        header=None,\n",
    "        names=columns\n",
    "    )\n",
    "    # Sort downloads by time\n",
    "    df_raw.sort_values(\"timestamp\", inplace=True)\n",
    "\n",
    "    # Loop through each participant and find gini\n",
    "    gini_at_time = []\n",
    "    gini_at_time_se = []\n",
    "    smoothed_at_time = []\n",
    "    counts = dict((song_id, 0) for song_id in song_ids)\n",
    "    total_downloads = 0\n",
    "    smoothed = 0\n",
    "    for i in tqdm(range(df_raw.shape[0])):\n",
    "        for song_id in song_ids:\n",
    "            c = df_raw['dl_{}'.format(song_id)][i]\n",
    "            total_downloads += c\n",
    "            counts[song_id] += c\n",
    "        if step > 1 and i % step != 0:\n",
    "            continue\n",
    "        g, se = gini_bootstrap(counts.values(), samples)\n",
    "        if smooth > 1:\n",
    "            previous = gini_at_time[-1*smooth:]\n",
    "            smoothed = (g + sum(previous)) / (len(previous) + 1)\n",
    "        else:\n",
    "            smoothed = g\n",
    "        gini_at_time.append(g)\n",
    "        gini_at_time_se.append(se)\n",
    "        smoothed_at_time.append(smoothed)\n",
    "    return smoothed_at_time, gini_at_time_se"
   ]
  },
  {
   "cell_type": "code",
   "execution_count": null,
   "metadata": {},
   "outputs": [],
   "source": [
    "def plot_se(y, se, label=\"\", color=\"#7f7fff\"):\n",
    "    x = range(len(y))\n",
    "    y_low = np.array(y) - np.array(se)\n",
    "    y_high = np.array(y) + np.array(se)\n",
    "    plt.fill_between(x, y_low, y_high, color=(color+\"4f\"))\n",
    "    plt.plot(x, y, label=label, color=color)\n"
   ]
  },
  {
   "cell_type": "code",
   "execution_count": null,
   "metadata": {},
   "outputs": [],
   "source": [
    "gini_t_19, gini_se_t_19 = get_world_gini_evolution(9, 1, smooth=10, samples=300, step=1)"
   ]
  },
  {
   "cell_type": "code",
   "execution_count": null,
   "metadata": {},
   "outputs": [],
   "source": [
    "gini_t_14, gini_se_t_14 = get_world_gini_evolution(4, 1, smooth=10, samples=300, step=1)"
   ]
  },
  {
   "cell_type": "code",
   "execution_count": null,
   "metadata": {},
   "outputs": [],
   "source": [
    "gini_t_29, gini_se_t_29 = get_world_gini_evolution(9, 2, smooth=10, samples=300, step=1)"
   ]
  },
  {
   "cell_type": "code",
   "execution_count": null,
   "metadata": {},
   "outputs": [],
   "source": [
    "gini_t_24, gini_se_t_24 = get_world_gini_evolution(4, 2, smooth=10, samples=300, step=1)"
   ]
  },
  {
   "cell_type": "code",
   "execution_count": null,
   "metadata": {},
   "outputs": [],
   "source": [
    "plt.figure(figsize=(8, 4))\n",
    "plot_se(gini_t_19, gini_se_t_19)\n",
    "plot_se(gini_t_14, gini_se_t_14, color=\"#afaf7f\")\n",
    "plt.ylim([0, 1])\n",
    "plt.grid()\n",
    "plt.xlabel(\"Number of participants\")\n",
    "plt.ylabel(\"Gini\")\n",
    "plt.legend()"
   ]
  },
  {
   "cell_type": "code",
   "execution_count": null,
   "metadata": {},
   "outputs": [],
   "source": [
    "plt.figure(figsize=(8, 8))\n",
    "plot_se(gini_t_29, gini_se_t_29)\n",
    "plot_se(gini_t_24, gini_se_t_24, color=\"#afaf7f\")\n",
    "plt.ylim([0.1, 0.6]); plt.xlim([0, 1000])\n",
    "plt.grid()\n",
    "plt.xlabel(\"Number of participants\")\n",
    "plt.ylabel(\"Gini\")\n",
    "plt.legend()"
   ]
  },
  {
   "cell_type": "markdown",
   "metadata": {},
   "source": [
    "## Power Analysis\n",
    "Now that you've reproduced the analysis from (SDW2006), it's your turn! You will be running your own online experiment to measure the effects of social influence. But before starting an experiment, it's important to think about how much data you will need to collect in order to find what you're looking for. This is called power analysis.\n",
    "\n",
    "As we saw above, the experimental results have some uncertainty. Rather than giving an exact gini coefficient, the experiment gives us a best guess and a range of likely values. With more and more data, the range becomes smaller, and the result becomes more certain. To figure out how much data your experiment will need, you can use the (SDW2006) data as a guide. The goal is to tell whether the gini coefficient of the social influence world is different from that of the control world. In other words, whether there is any overlap between the likely values for the two different conditions.\n",
    "\n",
    "The figure below shows the evolution of the gini index (with confidence intervals) as new participants are added, for both the social and control groups. The left panel is for Experiment 1 (grid layout) while the right panel is for Experiment 2 (list layout)."
   ]
  },
  {
   "cell_type": "code",
   "execution_count": null,
   "metadata": {},
   "outputs": [],
   "source": []
  }
 ],
 "metadata": {
  "kernelspec": {
   "display_name": "Python 3",
   "language": "python",
   "name": "python3"
  },
  "language_info": {
   "codemirror_mode": {
    "name": "ipython",
    "version": 3
   },
   "file_extension": ".py",
   "mimetype": "text/x-python",
   "name": "python",
   "nbconvert_exporter": "python",
   "pygments_lexer": "ipython3",
   "version": "3.6.8"
  }
 },
 "nbformat": 4,
 "nbformat_minor": 2
}
